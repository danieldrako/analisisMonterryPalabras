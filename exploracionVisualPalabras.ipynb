{
  "cells": [
    {
      "cell_type": "markdown",
      "metadata": {
        "id": "view-in-github",
        "colab_type": "text"
      },
      "source": [
        "<a href=\"https://colab.research.google.com/github/danieldrako/analisisMonterryPalabras/blob/main/exploracionVisualPalabras.ipynb\" target=\"_parent\"><img src=\"https://colab.research.google.com/assets/colab-badge.svg\" alt=\"Open In Colab\"/></a>"
      ]
    },
    {
      "cell_type": "code",
      "execution_count": null,
      "id": "2072babd",
      "metadata": {
        "id": "2072babd"
      },
      "outputs": [],
      "source": [
        ""
      ]
    },
    {
      "cell_type": "code",
      "source": [
        "from google.colab import drive\n",
        "drive.mount('/content/drive')"
      ],
      "metadata": {
        "colab": {
          "base_uri": "https://localhost:8080/"
        },
        "id": "DjR_7FE5uaqq",
        "outputId": "59600c02-4e18-4b71-d72e-f009134b0007"
      },
      "id": "DjR_7FE5uaqq",
      "execution_count": 5,
      "outputs": [
        {
          "output_type": "stream",
          "name": "stdout",
          "text": [
            "Mounted at /content/drive\n"
          ]
        }
      ]
    },
    {
      "cell_type": "code",
      "execution_count": 3,
      "id": "1c043bb1",
      "metadata": {
        "id": "1c043bb1"
      },
      "outputs": [],
      "source": [
        "%matplotlib inline\n",
        "import pandas as pd"
      ]
    },
    {
      "cell_type": "code",
      "execution_count": 6,
      "id": "a2f4dfe8",
      "metadata": {
        "id": "a2f4dfe8"
      },
      "outputs": [],
      "source": [
        "compras_df = pd.read_csv('/data/clean_compras.csv')"
      ]
    },
    {
      "cell_type": "code",
      "execution_count": 7,
      "id": "ec845aa7",
      "metadata": {
        "id": "ec845aa7",
        "outputId": "82158da0-cea7-455f-bb75-816ff8960f76",
        "colab": {
          "base_uri": "https://localhost:8080/",
          "height": 372
        }
      },
      "outputs": [
        {
          "output_type": "execute_result",
          "data": {
            "text/plain": [
              "   NUM BEN                              BENEFICIARIO           RFC  \\\n",
              "0   110741    ALMACEN PAPELERO SALDAÑA, S.A. DE C.V.  APS931217911   \n",
              "1   110751  PLOMIFERRETERA EL TORNILLO, S.A. DE C.V.  PTO900402RV5   \n",
              "2   110751  PLOMIFERRETERA EL TORNILLO, S.A. DE C.V.  PTO900402RV5   \n",
              "3   110751  PLOMIFERRETERA EL TORNILLO, S.A. DE C.V.  PTO900402RV5   \n",
              "4   110751  PLOMIFERRETERA EL TORNILLO, S.A. DE C.V.  PTO900402RV5   \n",
              "\n",
              "           FACT-NUE-FO              CONTRATO  \\\n",
              "0  MTY7059-158003-5907  ORDEN DE COMPRA 7356   \n",
              "1   B24553-158003-5592  ORDEN DE COMPRA 7279   \n",
              "2   B24653-158003-5420  ORDEN DE COMPRA 7297   \n",
              "3   B24711-158003-5881  ORDEN DE COMPRA 7373   \n",
              "4   B24753-158003-5848  ORDEN DE COMPRA 7395   \n",
              "\n",
              "                                            CONCEPTO TIPO    FDO-#OP  \\\n",
              "0  SUMINISTRO DE MATERIAL DE PAPELERIA PARA LAS D...   TR  1021640.0   \n",
              "1  SUMINISTRO DE PILAS ALCALINAS AA Y AAA PARA LO...   TR  1021489.0   \n",
              "2  SUMINISTRO DE MATERIALES PARA LA DIR. DE IMAGE...   TR  1021489.0   \n",
              "3  SUMINISTRO DE MATERIAL REQUERIDO PARA LA REPAR...   TR  1021580.0   \n",
              "4  SUMINISTRO DE MATERIAL PARA LA FABRICACION DE ...   TR  1021580.0   \n",
              "\n",
              "        FECHA   IMPORTE          SHEET  \n",
              "0  2021-12-30   8885.58  GASTOS VARIOS  \n",
              "1  2021-12-10  17774.31  GASTOS VARIOS  \n",
              "2  2021-12-10  21385.84  GASTOS VARIOS  \n",
              "3  2021-12-17  23641.61  GASTOS VARIOS  \n",
              "4  2021-12-17   9014.36  GASTOS VARIOS  "
            ],
            "text/html": [
              "\n",
              "  <div id=\"df-329bd5a0-41a3-4cbd-badf-7a79c302c459\">\n",
              "    <div class=\"colab-df-container\">\n",
              "      <div>\n",
              "<style scoped>\n",
              "    .dataframe tbody tr th:only-of-type {\n",
              "        vertical-align: middle;\n",
              "    }\n",
              "\n",
              "    .dataframe tbody tr th {\n",
              "        vertical-align: top;\n",
              "    }\n",
              "\n",
              "    .dataframe thead th {\n",
              "        text-align: right;\n",
              "    }\n",
              "</style>\n",
              "<table border=\"1\" class=\"dataframe\">\n",
              "  <thead>\n",
              "    <tr style=\"text-align: right;\">\n",
              "      <th></th>\n",
              "      <th>NUM BEN</th>\n",
              "      <th>BENEFICIARIO</th>\n",
              "      <th>RFC</th>\n",
              "      <th>FACT-NUE-FO</th>\n",
              "      <th>CONTRATO</th>\n",
              "      <th>CONCEPTO</th>\n",
              "      <th>TIPO</th>\n",
              "      <th>FDO-#OP</th>\n",
              "      <th>FECHA</th>\n",
              "      <th>IMPORTE</th>\n",
              "      <th>SHEET</th>\n",
              "    </tr>\n",
              "  </thead>\n",
              "  <tbody>\n",
              "    <tr>\n",
              "      <th>0</th>\n",
              "      <td>110741</td>\n",
              "      <td>ALMACEN PAPELERO SALDAÑA, S.A. DE C.V.</td>\n",
              "      <td>APS931217911</td>\n",
              "      <td>MTY7059-158003-5907</td>\n",
              "      <td>ORDEN DE COMPRA 7356</td>\n",
              "      <td>SUMINISTRO DE MATERIAL DE PAPELERIA PARA LAS D...</td>\n",
              "      <td>TR</td>\n",
              "      <td>1021640.0</td>\n",
              "      <td>2021-12-30</td>\n",
              "      <td>8885.58</td>\n",
              "      <td>GASTOS VARIOS</td>\n",
              "    </tr>\n",
              "    <tr>\n",
              "      <th>1</th>\n",
              "      <td>110751</td>\n",
              "      <td>PLOMIFERRETERA EL TORNILLO, S.A. DE C.V.</td>\n",
              "      <td>PTO900402RV5</td>\n",
              "      <td>B24553-158003-5592</td>\n",
              "      <td>ORDEN DE COMPRA 7279</td>\n",
              "      <td>SUMINISTRO DE PILAS ALCALINAS AA Y AAA PARA LO...</td>\n",
              "      <td>TR</td>\n",
              "      <td>1021489.0</td>\n",
              "      <td>2021-12-10</td>\n",
              "      <td>17774.31</td>\n",
              "      <td>GASTOS VARIOS</td>\n",
              "    </tr>\n",
              "    <tr>\n",
              "      <th>2</th>\n",
              "      <td>110751</td>\n",
              "      <td>PLOMIFERRETERA EL TORNILLO, S.A. DE C.V.</td>\n",
              "      <td>PTO900402RV5</td>\n",
              "      <td>B24653-158003-5420</td>\n",
              "      <td>ORDEN DE COMPRA 7297</td>\n",
              "      <td>SUMINISTRO DE MATERIALES PARA LA DIR. DE IMAGE...</td>\n",
              "      <td>TR</td>\n",
              "      <td>1021489.0</td>\n",
              "      <td>2021-12-10</td>\n",
              "      <td>21385.84</td>\n",
              "      <td>GASTOS VARIOS</td>\n",
              "    </tr>\n",
              "    <tr>\n",
              "      <th>3</th>\n",
              "      <td>110751</td>\n",
              "      <td>PLOMIFERRETERA EL TORNILLO, S.A. DE C.V.</td>\n",
              "      <td>PTO900402RV5</td>\n",
              "      <td>B24711-158003-5881</td>\n",
              "      <td>ORDEN DE COMPRA 7373</td>\n",
              "      <td>SUMINISTRO DE MATERIAL REQUERIDO PARA LA REPAR...</td>\n",
              "      <td>TR</td>\n",
              "      <td>1021580.0</td>\n",
              "      <td>2021-12-17</td>\n",
              "      <td>23641.61</td>\n",
              "      <td>GASTOS VARIOS</td>\n",
              "    </tr>\n",
              "    <tr>\n",
              "      <th>4</th>\n",
              "      <td>110751</td>\n",
              "      <td>PLOMIFERRETERA EL TORNILLO, S.A. DE C.V.</td>\n",
              "      <td>PTO900402RV5</td>\n",
              "      <td>B24753-158003-5848</td>\n",
              "      <td>ORDEN DE COMPRA 7395</td>\n",
              "      <td>SUMINISTRO DE MATERIAL PARA LA FABRICACION DE ...</td>\n",
              "      <td>TR</td>\n",
              "      <td>1021580.0</td>\n",
              "      <td>2021-12-17</td>\n",
              "      <td>9014.36</td>\n",
              "      <td>GASTOS VARIOS</td>\n",
              "    </tr>\n",
              "  </tbody>\n",
              "</table>\n",
              "</div>\n",
              "      <button class=\"colab-df-convert\" onclick=\"convertToInteractive('df-329bd5a0-41a3-4cbd-badf-7a79c302c459')\"\n",
              "              title=\"Convert this dataframe to an interactive table.\"\n",
              "              style=\"display:none;\">\n",
              "        \n",
              "  <svg xmlns=\"http://www.w3.org/2000/svg\" height=\"24px\"viewBox=\"0 0 24 24\"\n",
              "       width=\"24px\">\n",
              "    <path d=\"M0 0h24v24H0V0z\" fill=\"none\"/>\n",
              "    <path d=\"M18.56 5.44l.94 2.06.94-2.06 2.06-.94-2.06-.94-.94-2.06-.94 2.06-2.06.94zm-11 1L8.5 8.5l.94-2.06 2.06-.94-2.06-.94L8.5 2.5l-.94 2.06-2.06.94zm10 10l.94 2.06.94-2.06 2.06-.94-2.06-.94-.94-2.06-.94 2.06-2.06.94z\"/><path d=\"M17.41 7.96l-1.37-1.37c-.4-.4-.92-.59-1.43-.59-.52 0-1.04.2-1.43.59L10.3 9.45l-7.72 7.72c-.78.78-.78 2.05 0 2.83L4 21.41c.39.39.9.59 1.41.59.51 0 1.02-.2 1.41-.59l7.78-7.78 2.81-2.81c.8-.78.8-2.07 0-2.86zM5.41 20L4 18.59l7.72-7.72 1.47 1.35L5.41 20z\"/>\n",
              "  </svg>\n",
              "      </button>\n",
              "      \n",
              "  <style>\n",
              "    .colab-df-container {\n",
              "      display:flex;\n",
              "      flex-wrap:wrap;\n",
              "      gap: 12px;\n",
              "    }\n",
              "\n",
              "    .colab-df-convert {\n",
              "      background-color: #E8F0FE;\n",
              "      border: none;\n",
              "      border-radius: 50%;\n",
              "      cursor: pointer;\n",
              "      display: none;\n",
              "      fill: #1967D2;\n",
              "      height: 32px;\n",
              "      padding: 0 0 0 0;\n",
              "      width: 32px;\n",
              "    }\n",
              "\n",
              "    .colab-df-convert:hover {\n",
              "      background-color: #E2EBFA;\n",
              "      box-shadow: 0px 1px 2px rgba(60, 64, 67, 0.3), 0px 1px 3px 1px rgba(60, 64, 67, 0.15);\n",
              "      fill: #174EA6;\n",
              "    }\n",
              "\n",
              "    [theme=dark] .colab-df-convert {\n",
              "      background-color: #3B4455;\n",
              "      fill: #D2E3FC;\n",
              "    }\n",
              "\n",
              "    [theme=dark] .colab-df-convert:hover {\n",
              "      background-color: #434B5C;\n",
              "      box-shadow: 0px 1px 3px 1px rgba(0, 0, 0, 0.15);\n",
              "      filter: drop-shadow(0px 1px 2px rgba(0, 0, 0, 0.3));\n",
              "      fill: #FFFFFF;\n",
              "    }\n",
              "  </style>\n",
              "\n",
              "      <script>\n",
              "        const buttonEl =\n",
              "          document.querySelector('#df-329bd5a0-41a3-4cbd-badf-7a79c302c459 button.colab-df-convert');\n",
              "        buttonEl.style.display =\n",
              "          google.colab.kernel.accessAllowed ? 'block' : 'none';\n",
              "\n",
              "        async function convertToInteractive(key) {\n",
              "          const element = document.querySelector('#df-329bd5a0-41a3-4cbd-badf-7a79c302c459');\n",
              "          const dataTable =\n",
              "            await google.colab.kernel.invokeFunction('convertToInteractive',\n",
              "                                                     [key], {});\n",
              "          if (!dataTable) return;\n",
              "\n",
              "          const docLinkHtml = 'Like what you see? Visit the ' +\n",
              "            '<a target=\"_blank\" href=https://colab.research.google.com/notebooks/data_table.ipynb>data table notebook</a>'\n",
              "            + ' to learn more about interactive tables.';\n",
              "          element.innerHTML = '';\n",
              "          dataTable['output_type'] = 'display_data';\n",
              "          await google.colab.output.renderOutput(dataTable, element);\n",
              "          const docLink = document.createElement('div');\n",
              "          docLink.innerHTML = docLinkHtml;\n",
              "          element.appendChild(docLink);\n",
              "        }\n",
              "      </script>\n",
              "    </div>\n",
              "  </div>\n",
              "  "
            ]
          },
          "metadata": {},
          "execution_count": 7
        }
      ],
      "source": [
        "compras_df.head()"
      ]
    },
    {
      "cell_type": "markdown",
      "id": "238be16d",
      "metadata": {
        "id": "238be16d"
      },
      "source": [
        "### Visión General"
      ]
    },
    {
      "cell_type": "code",
      "execution_count": 8,
      "id": "5a8e5d11",
      "metadata": {
        "id": "5a8e5d11",
        "outputId": "0bfdbaf1-77df-402e-a826-6f3981c79525",
        "colab": {
          "base_uri": "https://localhost:8080/"
        }
      },
      "outputs": [
        {
          "output_type": "execute_result",
          "data": {
            "text/plain": [
              "Index(['NUM BEN', 'BENEFICIARIO', 'RFC', 'FACT-NUE-FO', 'CONTRATO', 'CONCEPTO',\n",
              "       'TIPO', 'FDO-#OP', 'FECHA', 'IMPORTE', 'SHEET'],\n",
              "      dtype='object')"
            ]
          },
          "metadata": {},
          "execution_count": 8
        }
      ],
      "source": [
        "compras_df.columns"
      ]
    },
    {
      "cell_type": "code",
      "execution_count": 9,
      "id": "63ee9ea6",
      "metadata": {
        "id": "63ee9ea6",
        "outputId": "d0611b2d-323b-4e13-df5c-2499dcfc9dff",
        "colab": {
          "base_uri": "https://localhost:8080/"
        }
      },
      "outputs": [
        {
          "output_type": "execute_result",
          "data": {
            "text/plain": [
              "NUM BEN           int64\n",
              "BENEFICIARIO     object\n",
              "RFC              object\n",
              "FACT-NUE-FO      object\n",
              "CONTRATO         object\n",
              "CONCEPTO         object\n",
              "TIPO             object\n",
              "FDO-#OP         float64\n",
              "FECHA            object\n",
              "IMPORTE         float64\n",
              "SHEET            object\n",
              "dtype: object"
            ]
          },
          "metadata": {},
          "execution_count": 9
        }
      ],
      "source": [
        "# se ha afectado el tipo de datos en la exportación\n",
        "compras_df.dtypes"
      ]
    },
    {
      "cell_type": "code",
      "execution_count": 10,
      "id": "81f23fd3",
      "metadata": {
        "id": "81f23fd3",
        "outputId": "e0a4ef8c-35d7-421f-96b9-f3763b8c8c7a",
        "colab": {
          "base_uri": "https://localhost:8080/",
          "height": 300
        }
      },
      "outputs": [
        {
          "output_type": "execute_result",
          "data": {
            "text/plain": [
              "             NUM BEN       FDO-#OP       IMPORTE\n",
              "count    1134.000000  1.134000e+03  1.134000e+03\n",
              "mean   209906.486772  1.275984e+08  4.473905e+05\n",
              "std     66097.870216  1.576289e+08  3.762533e+06\n",
              "min    110741.000000  1.021425e+06  2.364000e+01\n",
              "25%    203013.000000  1.021566e+06  5.050100e+03\n",
              "50%    203016.000000  1.106971e+06  2.245406e+04\n",
              "75%    214872.000000  3.190005e+08  8.619238e+04\n",
              "max    370012.000000  6.040001e+08  8.299122e+07"
            ],
            "text/html": [
              "\n",
              "  <div id=\"df-439c3471-2955-4cda-afa4-a86592c32773\">\n",
              "    <div class=\"colab-df-container\">\n",
              "      <div>\n",
              "<style scoped>\n",
              "    .dataframe tbody tr th:only-of-type {\n",
              "        vertical-align: middle;\n",
              "    }\n",
              "\n",
              "    .dataframe tbody tr th {\n",
              "        vertical-align: top;\n",
              "    }\n",
              "\n",
              "    .dataframe thead th {\n",
              "        text-align: right;\n",
              "    }\n",
              "</style>\n",
              "<table border=\"1\" class=\"dataframe\">\n",
              "  <thead>\n",
              "    <tr style=\"text-align: right;\">\n",
              "      <th></th>\n",
              "      <th>NUM BEN</th>\n",
              "      <th>FDO-#OP</th>\n",
              "      <th>IMPORTE</th>\n",
              "    </tr>\n",
              "  </thead>\n",
              "  <tbody>\n",
              "    <tr>\n",
              "      <th>count</th>\n",
              "      <td>1134.000000</td>\n",
              "      <td>1.134000e+03</td>\n",
              "      <td>1.134000e+03</td>\n",
              "    </tr>\n",
              "    <tr>\n",
              "      <th>mean</th>\n",
              "      <td>209906.486772</td>\n",
              "      <td>1.275984e+08</td>\n",
              "      <td>4.473905e+05</td>\n",
              "    </tr>\n",
              "    <tr>\n",
              "      <th>std</th>\n",
              "      <td>66097.870216</td>\n",
              "      <td>1.576289e+08</td>\n",
              "      <td>3.762533e+06</td>\n",
              "    </tr>\n",
              "    <tr>\n",
              "      <th>min</th>\n",
              "      <td>110741.000000</td>\n",
              "      <td>1.021425e+06</td>\n",
              "      <td>2.364000e+01</td>\n",
              "    </tr>\n",
              "    <tr>\n",
              "      <th>25%</th>\n",
              "      <td>203013.000000</td>\n",
              "      <td>1.021566e+06</td>\n",
              "      <td>5.050100e+03</td>\n",
              "    </tr>\n",
              "    <tr>\n",
              "      <th>50%</th>\n",
              "      <td>203016.000000</td>\n",
              "      <td>1.106971e+06</td>\n",
              "      <td>2.245406e+04</td>\n",
              "    </tr>\n",
              "    <tr>\n",
              "      <th>75%</th>\n",
              "      <td>214872.000000</td>\n",
              "      <td>3.190005e+08</td>\n",
              "      <td>8.619238e+04</td>\n",
              "    </tr>\n",
              "    <tr>\n",
              "      <th>max</th>\n",
              "      <td>370012.000000</td>\n",
              "      <td>6.040001e+08</td>\n",
              "      <td>8.299122e+07</td>\n",
              "    </tr>\n",
              "  </tbody>\n",
              "</table>\n",
              "</div>\n",
              "      <button class=\"colab-df-convert\" onclick=\"convertToInteractive('df-439c3471-2955-4cda-afa4-a86592c32773')\"\n",
              "              title=\"Convert this dataframe to an interactive table.\"\n",
              "              style=\"display:none;\">\n",
              "        \n",
              "  <svg xmlns=\"http://www.w3.org/2000/svg\" height=\"24px\"viewBox=\"0 0 24 24\"\n",
              "       width=\"24px\">\n",
              "    <path d=\"M0 0h24v24H0V0z\" fill=\"none\"/>\n",
              "    <path d=\"M18.56 5.44l.94 2.06.94-2.06 2.06-.94-2.06-.94-.94-2.06-.94 2.06-2.06.94zm-11 1L8.5 8.5l.94-2.06 2.06-.94-2.06-.94L8.5 2.5l-.94 2.06-2.06.94zm10 10l.94 2.06.94-2.06 2.06-.94-2.06-.94-.94-2.06-.94 2.06-2.06.94z\"/><path d=\"M17.41 7.96l-1.37-1.37c-.4-.4-.92-.59-1.43-.59-.52 0-1.04.2-1.43.59L10.3 9.45l-7.72 7.72c-.78.78-.78 2.05 0 2.83L4 21.41c.39.39.9.59 1.41.59.51 0 1.02-.2 1.41-.59l7.78-7.78 2.81-2.81c.8-.78.8-2.07 0-2.86zM5.41 20L4 18.59l7.72-7.72 1.47 1.35L5.41 20z\"/>\n",
              "  </svg>\n",
              "      </button>\n",
              "      \n",
              "  <style>\n",
              "    .colab-df-container {\n",
              "      display:flex;\n",
              "      flex-wrap:wrap;\n",
              "      gap: 12px;\n",
              "    }\n",
              "\n",
              "    .colab-df-convert {\n",
              "      background-color: #E8F0FE;\n",
              "      border: none;\n",
              "      border-radius: 50%;\n",
              "      cursor: pointer;\n",
              "      display: none;\n",
              "      fill: #1967D2;\n",
              "      height: 32px;\n",
              "      padding: 0 0 0 0;\n",
              "      width: 32px;\n",
              "    }\n",
              "\n",
              "    .colab-df-convert:hover {\n",
              "      background-color: #E2EBFA;\n",
              "      box-shadow: 0px 1px 2px rgba(60, 64, 67, 0.3), 0px 1px 3px 1px rgba(60, 64, 67, 0.15);\n",
              "      fill: #174EA6;\n",
              "    }\n",
              "\n",
              "    [theme=dark] .colab-df-convert {\n",
              "      background-color: #3B4455;\n",
              "      fill: #D2E3FC;\n",
              "    }\n",
              "\n",
              "    [theme=dark] .colab-df-convert:hover {\n",
              "      background-color: #434B5C;\n",
              "      box-shadow: 0px 1px 3px 1px rgba(0, 0, 0, 0.15);\n",
              "      filter: drop-shadow(0px 1px 2px rgba(0, 0, 0, 0.3));\n",
              "      fill: #FFFFFF;\n",
              "    }\n",
              "  </style>\n",
              "\n",
              "      <script>\n",
              "        const buttonEl =\n",
              "          document.querySelector('#df-439c3471-2955-4cda-afa4-a86592c32773 button.colab-df-convert');\n",
              "        buttonEl.style.display =\n",
              "          google.colab.kernel.accessAllowed ? 'block' : 'none';\n",
              "\n",
              "        async function convertToInteractive(key) {\n",
              "          const element = document.querySelector('#df-439c3471-2955-4cda-afa4-a86592c32773');\n",
              "          const dataTable =\n",
              "            await google.colab.kernel.invokeFunction('convertToInteractive',\n",
              "                                                     [key], {});\n",
              "          if (!dataTable) return;\n",
              "\n",
              "          const docLinkHtml = 'Like what you see? Visit the ' +\n",
              "            '<a target=\"_blank\" href=https://colab.research.google.com/notebooks/data_table.ipynb>data table notebook</a>'\n",
              "            + ' to learn more about interactive tables.';\n",
              "          element.innerHTML = '';\n",
              "          dataTable['output_type'] = 'display_data';\n",
              "          await google.colab.output.renderOutput(dataTable, element);\n",
              "          const docLink = document.createElement('div');\n",
              "          docLink.innerHTML = docLinkHtml;\n",
              "          element.appendChild(docLink);\n",
              "        }\n",
              "      </script>\n",
              "    </div>\n",
              "  </div>\n",
              "  "
            ]
          },
          "metadata": {},
          "execution_count": 10
        }
      ],
      "source": [
        "## Trabajando sobre las variables numéricas\n",
        "compras_df.describe()"
      ]
    },
    {
      "cell_type": "code",
      "execution_count": 11,
      "id": "1374ea10",
      "metadata": {
        "id": "1374ea10"
      },
      "outputs": [],
      "source": [
        "compras_df = compras_df[['BENEFICIARIO', 'FACT-NUE-FO', 'CONTRATO', 'CONCEPTO',\n",
        "       'TIPO', 'FDO-#OP', 'FECHA', 'IMPORTE', 'SHEET']]"
      ]
    },
    {
      "cell_type": "markdown",
      "id": "25c91139",
      "metadata": {
        "id": "25c91139"
      },
      "source": [
        "### Análisis unidimensional de las variables"
      ]
    },
    {
      "cell_type": "code",
      "execution_count": 12,
      "id": "fed39a85",
      "metadata": {
        "id": "fed39a85",
        "outputId": "41872bef-ba5b-40f6-ee64-80fbd22cd745",
        "colab": {
          "base_uri": "https://localhost:8080/"
        }
      },
      "outputs": [
        {
          "output_type": "execute_result",
          "data": {
            "text/plain": [
              "GASTOS VARIOS     569\n",
              "SERV PERS         534\n",
              "COMUNIC            26\n",
              "GTOS REPRESENT      5\n",
              "Name: SHEET, dtype: int64"
            ]
          },
          "metadata": {},
          "execution_count": 12
        }
      ],
      "source": [
        "## conteo de ocuerrencia \n",
        "\n",
        "compras_df['SHEET'].value_counts()"
      ]
    },
    {
      "cell_type": "code",
      "execution_count": 13,
      "id": "35823b73",
      "metadata": {
        "id": "35823b73",
        "outputId": "9d41e255-a943-4ec5-dcd7-3d098d1718bf",
        "colab": {
          "base_uri": "https://localhost:8080/"
        }
      },
      "outputs": [
        {
          "output_type": "execute_result",
          "data": {
            "text/plain": [
              "CAJA CHICA NOVIEMBRE 2021                                                                               11\n",
              "DESCUENTO SOBRE NÓMINA CORRESPONDIENTE A LA SEGUNDA QUINCENA DEL MES 12 Y AÑO 2021                      11\n",
              "DESCUENTO SOBRE NÓMINA CORRESPONDIENTE A LA PRIMERA QUINCENA DEL MES 12 Y AÑO 2021                      11\n",
              "DESCUENTO SOBRE NÓMINA CORRESPONDIENTE A LA SEGUNDA QUINCENA DEL MES 11 Y AÑO 2021                      11\n",
              "PAGO DE SEGURO DE VIDA POR DEFUNCION DEL C. JAIME RODRIGUEZ MARTINEZ NOMINA 1574                        10\n",
              "                                                                                                        ..\n",
              "DESCUENTO JUDICIAL MERCANTIL - HORACIO SALAZAR GONZALEZ 110992 - 24/2021                                 1\n",
              "DESCUENTO JUDICIAL MERCANTIL - LUIS MARTIN PUGA ARROYO 24873 - 24/2021                                   1\n",
              "DESCUENTO JUDICIAL MERCANTIL - MARIA DOLORES CASTILLO OLIVAS 14518 - 24/2021                             1\n",
              "DESCUENTO JUDICIAL MERCANTIL - ORALIA MONTOYA LOPEZ 14855 - 24/2021                                      1\n",
              "TRANSMISION DE SPOT DE 30SEG, DEL DIA 08 AL 28 DE ABRIL DEL 2021, CAMPAÑA EN TELEVISION, EXCURSIONES     1\n",
              "Name: CONCEPTO, Length: 721, dtype: int64"
            ]
          },
          "metadata": {},
          "execution_count": 13
        }
      ],
      "source": [
        "compras_df['CONCEPTO'].value_counts()"
      ]
    },
    {
      "cell_type": "code",
      "execution_count": 14,
      "id": "2259b9c7",
      "metadata": {
        "id": "2259b9c7",
        "outputId": "53130928-c304-4b7a-c3fb-bd99ff4ea1ab",
        "colab": {
          "base_uri": "https://localhost:8080/"
        }
      },
      "outputs": [
        {
          "output_type": "execute_result",
          "data": {
            "text/plain": [
              "721"
            ]
          },
          "metadata": {},
          "execution_count": 14
        }
      ],
      "source": [
        "## cantidad de observaciones de conceptos \n",
        "len(compras_df['CONCEPTO'].value_counts())"
      ]
    },
    {
      "cell_type": "code",
      "execution_count": 15,
      "id": "5bc905f0",
      "metadata": {
        "id": "5bc905f0",
        "outputId": "6ebf6af2-f572-4363-ebda-9d3357f79066",
        "colab": {
          "base_uri": "https://localhost:8080/"
        }
      },
      "outputs": [
        {
          "output_type": "execute_result",
          "data": {
            "text/plain": [
              "HISA FARMACEUTICA, S.A. DE C.V.                          31\n",
              "S.I.M.E.P.R.O.D.E.                                       31\n",
              "SECRETARIA DE FINANZAS Y TESORERIA GRAL DEL EDO DE NL    21\n",
              "IMPRENTA PERCHES, S.A. DE C.V.                           21\n",
              "GASOLINERA NUEVO LEON, S.A. DE C.V.                      19\n",
              "SERVICIO GAS LINCOLN, S.A. DE C.V.                       17\n",
              "CFE SUMINISTRADOR DE SERVICIOS BASICOS                   16\n",
              "GONZALEZ RAMIREZ CARLOS ADRIAN                           16\n",
              "GS GAS Q, S.A. DE C.V.                                   16\n",
              "MUNICIPIO DE LA CIUDAD DE MONTERREY                      15\n",
              "Name: BENEFICIARIO, dtype: int64"
            ]
          },
          "metadata": {},
          "execution_count": 15
        }
      ],
      "source": [
        "#primeros 10 pagos que ha hecho cada provedor\n",
        "compras_df['BENEFICIARIO'].value_counts()[0:10]"
      ]
    },
    {
      "cell_type": "code",
      "execution_count": 16,
      "id": "6ec709ba",
      "metadata": {
        "id": "6ec709ba",
        "outputId": "def8a085-88ad-4e82-9391-8f6d14080cef",
        "colab": {
          "base_uri": "https://localhost:8080/"
        }
      },
      "outputs": [
        {
          "output_type": "execute_result",
          "data": {
            "text/plain": [
              "HISA FARMACEUTICA, S.A. DE C.V.                          0.027337\n",
              "S.I.M.E.P.R.O.D.E.                                       0.027337\n",
              "SECRETARIA DE FINANZAS Y TESORERIA GRAL DEL EDO DE NL    0.018519\n",
              "IMPRENTA PERCHES, S.A. DE C.V.                           0.018519\n",
              "GASOLINERA NUEVO LEON, S.A. DE C.V.                      0.016755\n",
              "SERVICIO GAS LINCOLN, S.A. DE C.V.                       0.014991\n",
              "CFE SUMINISTRADOR DE SERVICIOS BASICOS                   0.014109\n",
              "GONZALEZ RAMIREZ CARLOS ADRIAN                           0.014109\n",
              "GS GAS Q, S.A. DE C.V.                                   0.014109\n",
              "MUNICIPIO DE LA CIUDAD DE MONTERREY                      0.013228\n",
              "Name: BENEFICIARIO, dtype: float64"
            ]
          },
          "metadata": {},
          "execution_count": 16
        }
      ],
      "source": [
        "## en porcentaje \n",
        "compras_df['BENEFICIARIO'].value_counts(normalize = True)[0:10]"
      ]
    },
    {
      "cell_type": "code",
      "execution_count": 17,
      "id": "3a983f83",
      "metadata": {
        "id": "3a983f83",
        "outputId": "3e85e3e8-035d-4fa7-ba52-a6f1b0d2b92a",
        "colab": {
          "base_uri": "https://localhost:8080/",
          "height": 296
        }
      },
      "outputs": [
        {
          "output_type": "execute_result",
          "data": {
            "text/plain": [
              "<matplotlib.axes._subplots.AxesSubplot at 0x7f732cf2d1d0>"
            ]
          },
          "metadata": {},
          "execution_count": 17
        },
        {
          "output_type": "display_data",
          "data": {
            "text/plain": [
              "<Figure size 432x288 with 1 Axes>"
            ],
            "image/png": "[encoded data removed]"
          },
          "metadata": {
            "needs_background": "light"
          }
        }
      ],
      "source": [
        "## Histograma\n",
        "compras_df['IMPORTE'].hist()"
      ]
    },
    {
      "cell_type": "code",
      "execution_count": 18,
      "id": "8bd8f7e0",
      "metadata": {
        "id": "8bd8f7e0",
        "outputId": "775746d3-5b20-474d-9549-128d801388bc",
        "colab": {
          "base_uri": "https://localhost:8080/",
          "height": 283
        }
      },
      "outputs": [
        {
          "output_type": "execute_result",
          "data": {
            "text/plain": [
              "<matplotlib.axes._subplots.AxesSubplot at 0x7f732ce18a50>"
            ]
          },
          "metadata": {},
          "execution_count": 18
        },
        {
          "output_type": "display_data",
          "data": {
            "text/plain": [
              "<Figure size 432x288 with 1 Axes>"
            ],
            "image/png": "[encoded data removed]"
          },
          "metadata": {
            "needs_background": "light"
          }
        }
      ],
      "source": [
        "## Compras menores a un cuantil\n",
        "compras_df[compras_df['IMPORTE'] < compras_df['IMPORTE'].quantile(0.95)]['IMPORTE'].hist()"
      ]
    },
    {
      "cell_type": "code",
      "execution_count": 19,
      "id": "024fd0fb",
      "metadata": {
        "id": "024fd0fb",
        "outputId": "105d2cce-68da-4c53-ac4e-2a2d685ace05",
        "colab": {
          "base_uri": "https://localhost:8080/",
          "height": 283
        }
      },
      "outputs": [
        {
          "output_type": "execute_result",
          "data": {
            "text/plain": [
              "<matplotlib.axes._subplots.AxesSubplot at 0x7f732c8f1c10>"
            ]
          },
          "metadata": {},
          "execution_count": 19
        },
        {
          "output_type": "display_data",
          "data": {
            "text/plain": [
              "<Figure size 432x288 with 1 Axes>"
            ],
            "image/png": "[encoded data removed]"
          },
          "metadata": {
            "needs_background": "light"
          }
        }
      ],
      "source": [
        "## con 50 separaciones\n",
        "compras_df[compras_df['IMPORTE'] < compras_df['IMPORTE'].quantile(0.95)]['IMPORTE'].hist(bins=50)"
      ]
    },
    {
      "cell_type": "code",
      "execution_count": 20,
      "id": "509e9c9e",
      "metadata": {
        "id": "509e9c9e",
        "outputId": "02ecf684-cb72-46fc-bf95-928d92538bc1",
        "colab": {
          "base_uri": "https://localhost:8080/",
          "height": 337
        }
      },
      "outputs": [
        {
          "output_type": "execute_result",
          "data": {
            "text/plain": [
              "                               BENEFICIARIO          FACT-NUE-FO  \\\n",
              "0    ALMACEN PAPELERO SALDAÑA, S.A. DE C.V.  MTY7059-158003-5907   \n",
              "1  PLOMIFERRETERA EL TORNILLO, S.A. DE C.V.   B24553-158003-5592   \n",
              "2  PLOMIFERRETERA EL TORNILLO, S.A. DE C.V.   B24653-158003-5420   \n",
              "3  PLOMIFERRETERA EL TORNILLO, S.A. DE C.V.   B24711-158003-5881   \n",
              "4  PLOMIFERRETERA EL TORNILLO, S.A. DE C.V.   B24753-158003-5848   \n",
              "\n",
              "               CONTRATO                                           CONCEPTO  \\\n",
              "0  ORDEN DE COMPRA 7356  SUMINISTRO DE MATERIAL DE PAPELERIA PARA LAS D...   \n",
              "1  ORDEN DE COMPRA 7279  SUMINISTRO DE PILAS ALCALINAS AA Y AAA PARA LO...   \n",
              "2  ORDEN DE COMPRA 7297  SUMINISTRO DE MATERIALES PARA LA DIR. DE IMAGE...   \n",
              "3  ORDEN DE COMPRA 7373  SUMINISTRO DE MATERIAL REQUERIDO PARA LA REPAR...   \n",
              "4  ORDEN DE COMPRA 7395  SUMINISTRO DE MATERIAL PARA LA FABRICACION DE ...   \n",
              "\n",
              "  TIPO    FDO-#OP       FECHA   IMPORTE          SHEET  \n",
              "0   TR  1021640.0  2021-12-30   8885.58  GASTOS VARIOS  \n",
              "1   TR  1021489.0  2021-12-10  17774.31  GASTOS VARIOS  \n",
              "2   TR  1021489.0  2021-12-10  21385.84  GASTOS VARIOS  \n",
              "3   TR  1021580.0  2021-12-17  23641.61  GASTOS VARIOS  \n",
              "4   TR  1021580.0  2021-12-17   9014.36  GASTOS VARIOS  "
            ],
            "text/html": [
              "\n",
              "  <div id=\"df-b9256670-f735-4d3c-9065-2a2bd6038794\">\n",
              "    <div class=\"colab-df-container\">\n",
              "      <div>\n",
              "<style scoped>\n",
              "    .dataframe tbody tr th:only-of-type {\n",
              "        vertical-align: middle;\n",
              "    }\n",
              "\n",
              "    .dataframe tbody tr th {\n",
              "        vertical-align: top;\n",
              "    }\n",
              "\n",
              "    .dataframe thead th {\n",
              "        text-align: right;\n",
              "    }\n",
              "</style>\n",
              "<table border=\"1\" class=\"dataframe\">\n",
              "  <thead>\n",
              "    <tr style=\"text-align: right;\">\n",
              "      <th></th>\n",
              "      <th>BENEFICIARIO</th>\n",
              "      <th>FACT-NUE-FO</th>\n",
              "      <th>CONTRATO</th>\n",
              "      <th>CONCEPTO</th>\n",
              "      <th>TIPO</th>\n",
              "      <th>FDO-#OP</th>\n",
              "      <th>FECHA</th>\n",
              "      <th>IMPORTE</th>\n",
              "      <th>SHEET</th>\n",
              "    </tr>\n",
              "  </thead>\n",
              "  <tbody>\n",
              "    <tr>\n",
              "      <th>0</th>\n",
              "      <td>ALMACEN PAPELERO SALDAÑA, S.A. DE C.V.</td>\n",
              "      <td>MTY7059-158003-5907</td>\n",
              "      <td>ORDEN DE COMPRA 7356</td>\n",
              "      <td>SUMINISTRO DE MATERIAL DE PAPELERIA PARA LAS D...</td>\n",
              "      <td>TR</td>\n",
              "      <td>1021640.0</td>\n",
              "      <td>2021-12-30</td>\n",
              "      <td>8885.58</td>\n",
              "      <td>GASTOS VARIOS</td>\n",
              "    </tr>\n",
              "    <tr>\n",
              "      <th>1</th>\n",
              "      <td>PLOMIFERRETERA EL TORNILLO, S.A. DE C.V.</td>\n",
              "      <td>B24553-158003-5592</td>\n",
              "      <td>ORDEN DE COMPRA 7279</td>\n",
              "      <td>SUMINISTRO DE PILAS ALCALINAS AA Y AAA PARA LO...</td>\n",
              "      <td>TR</td>\n",
              "      <td>1021489.0</td>\n",
              "      <td>2021-12-10</td>\n",
              "      <td>17774.31</td>\n",
              "      <td>GASTOS VARIOS</td>\n",
              "    </tr>\n",
              "    <tr>\n",
              "      <th>2</th>\n",
              "      <td>PLOMIFERRETERA EL TORNILLO, S.A. DE C.V.</td>\n",
              "      <td>B24653-158003-5420</td>\n",
              "      <td>ORDEN DE COMPRA 7297</td>\n",
              "      <td>SUMINISTRO DE MATERIALES PARA LA DIR. DE IMAGE...</td>\n",
              "      <td>TR</td>\n",
              "      <td>1021489.0</td>\n",
              "      <td>2021-12-10</td>\n",
              "      <td>21385.84</td>\n",
              "      <td>GASTOS VARIOS</td>\n",
              "    </tr>\n",
              "    <tr>\n",
              "      <th>3</th>\n",
              "      <td>PLOMIFERRETERA EL TORNILLO, S.A. DE C.V.</td>\n",
              "      <td>B24711-158003-5881</td>\n",
              "      <td>ORDEN DE COMPRA 7373</td>\n",
              "      <td>SUMINISTRO DE MATERIAL REQUERIDO PARA LA REPAR...</td>\n",
              "      <td>TR</td>\n",
              "      <td>1021580.0</td>\n",
              "      <td>2021-12-17</td>\n",
              "      <td>23641.61</td>\n",
              "      <td>GASTOS VARIOS</td>\n",
              "    </tr>\n",
              "    <tr>\n",
              "      <th>4</th>\n",
              "      <td>PLOMIFERRETERA EL TORNILLO, S.A. DE C.V.</td>\n",
              "      <td>B24753-158003-5848</td>\n",
              "      <td>ORDEN DE COMPRA 7395</td>\n",
              "      <td>SUMINISTRO DE MATERIAL PARA LA FABRICACION DE ...</td>\n",
              "      <td>TR</td>\n",
              "      <td>1021580.0</td>\n",
              "      <td>2021-12-17</td>\n",
              "      <td>9014.36</td>\n",
              "      <td>GASTOS VARIOS</td>\n",
              "    </tr>\n",
              "  </tbody>\n",
              "</table>\n",
              "</div>\n",
              "      <button class=\"colab-df-convert\" onclick=\"convertToInteractive('df-b9256670-f735-4d3c-9065-2a2bd6038794')\"\n",
              "              title=\"Convert this dataframe to an interactive table.\"\n",
              "              style=\"display:none;\">\n",
              "        \n",
              "  <svg xmlns=\"http://www.w3.org/2000/svg\" height=\"24px\"viewBox=\"0 0 24 24\"\n",
              "       width=\"24px\">\n",
              "    <path d=\"M0 0h24v24H0V0z\" fill=\"none\"/>\n",
              "    <path d=\"M18.56 5.44l.94 2.06.94-2.06 2.06-.94-2.06-.94-.94-2.06-.94 2.06-2.06.94zm-11 1L8.5 8.5l.94-2.06 2.06-.94-2.06-.94L8.5 2.5l-.94 2.06-2.06.94zm10 10l.94 2.06.94-2.06 2.06-.94-2.06-.94-.94-2.06-.94 2.06-2.06.94z\"/><path d=\"M17.41 7.96l-1.37-1.37c-.4-.4-.92-.59-1.43-.59-.52 0-1.04.2-1.43.59L10.3 9.45l-7.72 7.72c-.78.78-.78 2.05 0 2.83L4 21.41c.39.39.9.59 1.41.59.51 0 1.02-.2 1.41-.59l7.78-7.78 2.81-2.81c.8-.78.8-2.07 0-2.86zM5.41 20L4 18.59l7.72-7.72 1.47 1.35L5.41 20z\"/>\n",
              "  </svg>\n",
              "      </button>\n",
              "      \n",
              "  <style>\n",
              "    .colab-df-container {\n",
              "      display:flex;\n",
              "      flex-wrap:wrap;\n",
              "      gap: 12px;\n",
              "    }\n",
              "\n",
              "    .colab-df-convert {\n",
              "      background-color: #E8F0FE;\n",
              "      border: none;\n",
              "      border-radius: 50%;\n",
              "      cursor: pointer;\n",
              "      display: none;\n",
              "      fill: #1967D2;\n",
              "      height: 32px;\n",
              "      padding: 0 0 0 0;\n",
              "      width: 32px;\n",
              "    }\n",
              "\n",
              "    .colab-df-convert:hover {\n",
              "      background-color: #E2EBFA;\n",
              "      box-shadow: 0px 1px 2px rgba(60, 64, 67, 0.3), 0px 1px 3px 1px rgba(60, 64, 67, 0.15);\n",
              "      fill: #174EA6;\n",
              "    }\n",
              "\n",
              "    [theme=dark] .colab-df-convert {\n",
              "      background-color: #3B4455;\n",
              "      fill: #D2E3FC;\n",
              "    }\n",
              "\n",
              "    [theme=dark] .colab-df-convert:hover {\n",
              "      background-color: #434B5C;\n",
              "      box-shadow: 0px 1px 3px 1px rgba(0, 0, 0, 0.15);\n",
              "      filter: drop-shadow(0px 1px 2px rgba(0, 0, 0, 0.3));\n",
              "      fill: #FFFFFF;\n",
              "    }\n",
              "  </style>\n",
              "\n",
              "      <script>\n",
              "        const buttonEl =\n",
              "          document.querySelector('#df-b9256670-f735-4d3c-9065-2a2bd6038794 button.colab-df-convert');\n",
              "        buttonEl.style.display =\n",
              "          google.colab.kernel.accessAllowed ? 'block' : 'none';\n",
              "\n",
              "        async function convertToInteractive(key) {\n",
              "          const element = document.querySelector('#df-b9256670-f735-4d3c-9065-2a2bd6038794');\n",
              "          const dataTable =\n",
              "            await google.colab.kernel.invokeFunction('convertToInteractive',\n",
              "                                                     [key], {});\n",
              "          if (!dataTable) return;\n",
              "\n",
              "          const docLinkHtml = 'Like what you see? Visit the ' +\n",
              "            '<a target=\"_blank\" href=https://colab.research.google.com/notebooks/data_table.ipynb>data table notebook</a>'\n",
              "            + ' to learn more about interactive tables.';\n",
              "          element.innerHTML = '';\n",
              "          dataTable['output_type'] = 'display_data';\n",
              "          await google.colab.output.renderOutput(dataTable, element);\n",
              "          const docLink = document.createElement('div');\n",
              "          docLink.innerHTML = docLinkHtml;\n",
              "          element.appendChild(docLink);\n",
              "        }\n",
              "      </script>\n",
              "    </div>\n",
              "  </div>\n",
              "  "
            ]
          },
          "metadata": {},
          "execution_count": 20
        }
      ],
      "source": [
        "## conceptos menores a un cuantil 5% o superior \n",
        "compras_df[compras_df['IMPORTE'] < compras_df['IMPORTE'].quantile(0.95)].head(5)"
      ]
    },
    {
      "cell_type": "markdown",
      "id": "a3f6820f",
      "metadata": {
        "id": "a3f6820f"
      },
      "source": [
        "### Análisis multidimensional de las variables"
      ]
    },
    {
      "cell_type": "code",
      "execution_count": 40,
      "id": "2d924461",
      "metadata": {
        "id": "2d924461"
      },
      "outputs": [],
      "source": [
        "## Provedores con mayor carga\n",
        "sum_importe_beneficiario = compras_df.groupby('BENEFICIARIO').sum()['IMPORTE']"
      ]
    },
    {
      "cell_type": "code",
      "execution_count": 41,
      "id": "dd3219b1",
      "metadata": {
        "id": "dd3219b1",
        "outputId": "c60d4fc9-ceab-4a7c-90c0-bc84191eab55",
        "colab": {
          "base_uri": "https://localhost:8080/",
          "height": 594
        }
      },
      "outputs": [
        {
          "output_type": "execute_result",
          "data": {
            "text/plain": [
              "<matplotlib.axes._subplots.AxesSubplot at 0x7f731942ecd0>"
            ]
          },
          "metadata": {},
          "execution_count": 41
        },
        {
          "output_type": "display_data",
          "data": {
            "text/plain": [
              "<Figure size 432x288 with 1 Axes>"
            ],
            "image/png": "[encoded data removed]"
          },
          "metadata": {
            "needs_background": "light"
          }
        }
      ],
      "source": [
        "sum_importe_beneficiario.reset_index().sort_values(by='IMPORTE', ascending=False).iloc[0:10].plot(kind='bar'\n",
        "                                                                        ,x='BENEFICIARIO', y='IMPORTE')\n",
        "                                                             "
      ]
    },
    {
      "cell_type": "code",
      "execution_count": 42,
      "id": "bf80403c",
      "metadata": {
        "id": "bf80403c",
        "outputId": "85e7f588-60fd-4011-ea84-20fb9246710d",
        "colab": {
          "base_uri": "https://localhost:8080/",
          "height": 376
        }
      },
      "outputs": [
        {
          "output_type": "execute_result",
          "data": {
            "text/plain": [
              "<matplotlib.axes._subplots.AxesSubplot at 0x7f7318920410>"
            ]
          },
          "metadata": {},
          "execution_count": 42
        },
        {
          "output_type": "display_data",
          "data": {
            "text/plain": [
              "<Figure size 432x288 with 1 Axes>"
            ],
            "image/png": "[encoded data removed]"
          },
          "metadata": {
            "needs_background": "light"
          }
        }
      ],
      "source": [
        "## Gasto promedio por hoja\n",
        "\n",
        "mean_importe_sheet = compras_df.groupby('SHEET').mean()['IMPORTE']\n",
        "mean_importe_sheet.reset_index().sort_values(by='IMPORTE', ascending=False).iloc[0:10].plot(kind='bar'\n",
        "                                                                        ,x='SHEET', y='IMPORTE')"
      ]
    },
    {
      "cell_type": "code",
      "execution_count": 43,
      "id": "037dcaa7",
      "metadata": {
        "id": "037dcaa7",
        "outputId": "bbec33dd-43d2-4b6a-f360-44d5843c060c",
        "colab": {
          "base_uri": "https://localhost:8080/",
          "height": 175
        }
      },
      "outputs": [
        {
          "output_type": "execute_result",
          "data": {
            "text/plain": [
              "            SHEET        IMPORTE\n",
              "1   GASTOS VARIOS  841891.206837\n",
              "0         COMUNIC   97668.258846\n",
              "3       SERV PERS   48157.958352\n",
              "2  GTOS REPRESENT    9792.000000"
            ],
            "text/html": [
              "\n",
              "  <div id=\"df-287cf09b-a395-4422-9b67-6a08dff33978\">\n",
              "    <div class=\"colab-df-container\">\n",
              "      <div>\n",
              "<style scoped>\n",
              "    .dataframe tbody tr th:only-of-type {\n",
              "        vertical-align: middle;\n",
              "    }\n",
              "\n",
              "    .dataframe tbody tr th {\n",
              "        vertical-align: top;\n",
              "    }\n",
              "\n",
              "    .dataframe thead th {\n",
              "        text-align: right;\n",
              "    }\n",
              "</style>\n",
              "<table border=\"1\" class=\"dataframe\">\n",
              "  <thead>\n",
              "    <tr style=\"text-align: right;\">\n",
              "      <th></th>\n",
              "      <th>SHEET</th>\n",
              "      <th>IMPORTE</th>\n",
              "    </tr>\n",
              "  </thead>\n",
              "  <tbody>\n",
              "    <tr>\n",
              "      <th>1</th>\n",
              "      <td>GASTOS VARIOS</td>\n",
              "      <td>841891.206837</td>\n",
              "    </tr>\n",
              "    <tr>\n",
              "      <th>0</th>\n",
              "      <td>COMUNIC</td>\n",
              "      <td>97668.258846</td>\n",
              "    </tr>\n",
              "    <tr>\n",
              "      <th>3</th>\n",
              "      <td>SERV PERS</td>\n",
              "      <td>48157.958352</td>\n",
              "    </tr>\n",
              "    <tr>\n",
              "      <th>2</th>\n",
              "      <td>GTOS REPRESENT</td>\n",
              "      <td>9792.000000</td>\n",
              "    </tr>\n",
              "  </tbody>\n",
              "</table>\n",
              "</div>\n",
              "      <button class=\"colab-df-convert\" onclick=\"convertToInteractive('df-287cf09b-a395-4422-9b67-6a08dff33978')\"\n",
              "              title=\"Convert this dataframe to an interactive table.\"\n",
              "              style=\"display:none;\">\n",
              "        \n",
              "  <svg xmlns=\"http://www.w3.org/2000/svg\" height=\"24px\"viewBox=\"0 0 24 24\"\n",
              "       width=\"24px\">\n",
              "    <path d=\"M0 0h24v24H0V0z\" fill=\"none\"/>\n",
              "    <path d=\"M18.56 5.44l.94 2.06.94-2.06 2.06-.94-2.06-.94-.94-2.06-.94 2.06-2.06.94zm-11 1L8.5 8.5l.94-2.06 2.06-.94-2.06-.94L8.5 2.5l-.94 2.06-2.06.94zm10 10l.94 2.06.94-2.06 2.06-.94-2.06-.94-.94-2.06-.94 2.06-2.06.94z\"/><path d=\"M17.41 7.96l-1.37-1.37c-.4-.4-.92-.59-1.43-.59-.52 0-1.04.2-1.43.59L10.3 9.45l-7.72 7.72c-.78.78-.78 2.05 0 2.83L4 21.41c.39.39.9.59 1.41.59.51 0 1.02-.2 1.41-.59l7.78-7.78 2.81-2.81c.8-.78.8-2.07 0-2.86zM5.41 20L4 18.59l7.72-7.72 1.47 1.35L5.41 20z\"/>\n",
              "  </svg>\n",
              "      </button>\n",
              "      \n",
              "  <style>\n",
              "    .colab-df-container {\n",
              "      display:flex;\n",
              "      flex-wrap:wrap;\n",
              "      gap: 12px;\n",
              "    }\n",
              "\n",
              "    .colab-df-convert {\n",
              "      background-color: #E8F0FE;\n",
              "      border: none;\n",
              "      border-radius: 50%;\n",
              "      cursor: pointer;\n",
              "      display: none;\n",
              "      fill: #1967D2;\n",
              "      height: 32px;\n",
              "      padding: 0 0 0 0;\n",
              "      width: 32px;\n",
              "    }\n",
              "\n",
              "    .colab-df-convert:hover {\n",
              "      background-color: #E2EBFA;\n",
              "      box-shadow: 0px 1px 2px rgba(60, 64, 67, 0.3), 0px 1px 3px 1px rgba(60, 64, 67, 0.15);\n",
              "      fill: #174EA6;\n",
              "    }\n",
              "\n",
              "    [theme=dark] .colab-df-convert {\n",
              "      background-color: #3B4455;\n",
              "      fill: #D2E3FC;\n",
              "    }\n",
              "\n",
              "    [theme=dark] .colab-df-convert:hover {\n",
              "      background-color: #434B5C;\n",
              "      box-shadow: 0px 1px 3px 1px rgba(0, 0, 0, 0.15);\n",
              "      filter: drop-shadow(0px 1px 2px rgba(0, 0, 0, 0.3));\n",
              "      fill: #FFFFFF;\n",
              "    }\n",
              "  </style>\n",
              "\n",
              "      <script>\n",
              "        const buttonEl =\n",
              "          document.querySelector('#df-287cf09b-a395-4422-9b67-6a08dff33978 button.colab-df-convert');\n",
              "        buttonEl.style.display =\n",
              "          google.colab.kernel.accessAllowed ? 'block' : 'none';\n",
              "\n",
              "        async function convertToInteractive(key) {\n",
              "          const element = document.querySelector('#df-287cf09b-a395-4422-9b67-6a08dff33978');\n",
              "          const dataTable =\n",
              "            await google.colab.kernel.invokeFunction('convertToInteractive',\n",
              "                                                     [key], {});\n",
              "          if (!dataTable) return;\n",
              "\n",
              "          const docLinkHtml = 'Like what you see? Visit the ' +\n",
              "            '<a target=\"_blank\" href=https://colab.research.google.com/notebooks/data_table.ipynb>data table notebook</a>'\n",
              "            + ' to learn more about interactive tables.';\n",
              "          element.innerHTML = '';\n",
              "          dataTable['output_type'] = 'display_data';\n",
              "          await google.colab.output.renderOutput(dataTable, element);\n",
              "          const docLink = document.createElement('div');\n",
              "          docLink.innerHTML = docLinkHtml;\n",
              "          element.appendChild(docLink);\n",
              "        }\n",
              "      </script>\n",
              "    </div>\n",
              "  </div>\n",
              "  "
            ]
          },
          "metadata": {},
          "execution_count": 43
        }
      ],
      "source": [
        "##Tipos de gastos\n",
        "\n",
        "mean_importe_sheet.reset_index().sort_values(by='IMPORTE', ascending=False).iloc[0:10]"
      ]
    },
    {
      "cell_type": "code",
      "execution_count": 44,
      "id": "3b8d107f",
      "metadata": {
        "id": "3b8d107f",
        "outputId": "29166731-e675-4e9b-ac78-ae14837b5682",
        "colab": {
          "base_uri": "https://localhost:8080/"
        }
      },
      "outputs": [
        {
          "output_type": "execute_result",
          "data": {
            "text/plain": [
              "FECHA\n",
              "2021-12-01    4.823413e+05\n",
              "2021-12-02    6.033052e+05\n",
              "2021-12-03    8.431171e+06\n",
              "2021-12-06    1.447375e+07\n",
              "2021-12-07    7.448659e+06\n",
              "2021-12-08    1.456263e+06\n",
              "2021-12-09    2.272827e+06\n",
              "2021-12-10    1.129222e+07\n",
              "2021-12-13    2.940510e+06\n",
              "2021-12-14    2.104915e+07\n",
              "2021-12-15    4.507645e+06\n",
              "2021-12-16    2.437798e+07\n",
              "2021-12-17    1.960480e+08\n",
              "2021-12-20    8.194264e+07\n",
              "2021-12-21    2.182650e+06\n",
              "2021-12-22    1.053072e+06\n",
              "2021-12-23    4.540482e+05\n",
              "2021-12-24    6.868889e+06\n",
              "2021-12-27    4.794464e+07\n",
              "2021-12-28    1.061467e+07\n",
              "2021-12-29    3.742221e+05\n",
              "2021-12-30    2.534912e+07\n",
              "2021-12-31    3.517302e+07\n",
              "Name: IMPORTE, dtype: float64"
            ]
          },
          "metadata": {},
          "execution_count": 44
        }
      ],
      "source": [
        "suma_importe_fecha=compras_df.groupby('FECHA').sum()['IMPORTE']\n",
        "suma_importe_fecha"
      ]
    },
    {
      "cell_type": "code",
      "execution_count": 45,
      "id": "4e0f6b8d",
      "metadata": {
        "id": "4e0f6b8d",
        "outputId": "7b4cb0f0-2a3d-4905-c3ec-f4e4df24e949",
        "colab": {
          "base_uri": "https://localhost:8080/",
          "height": 641
        }
      },
      "outputs": [
        {
          "output_type": "execute_result",
          "data": {
            "text/plain": [
              "                                 BENEFICIARIO                  FACT-NUE-FO  \\\n",
              "0      ALMACEN PAPELERO SALDAÑA, S.A. DE C.V.          MTY7059-158003-5907   \n",
              "1    PLOMIFERRETERA EL TORNILLO, S.A. DE C.V.           B24553-158003-5592   \n",
              "2    PLOMIFERRETERA EL TORNILLO, S.A. DE C.V.           B24653-158003-5420   \n",
              "3    PLOMIFERRETERA EL TORNILLO, S.A. DE C.V.           B24711-158003-5881   \n",
              "4    PLOMIFERRETERA EL TORNILLO, S.A. DE C.V.           B24753-158003-5848   \n",
              "..                                        ...                          ...   \n",
              "564                    GS GAS Q, S.A. DE C.V.  BPLGK  78473091-158003-5928   \n",
              "565                    GS GAS Q, S.A. DE C.V.   BPLGK 78473092-158003-5929   \n",
              "566                    GS GAS Q, S.A. DE C.V.   BPLGK 78472877-158003-5152   \n",
              "567                    GS GAS Q, S.A. DE C.V.  BPLGK  78473126-158003-5954   \n",
              "568                    GS GAS Q, S.A. DE C.V.   BPLGK 78473128-158003-5950   \n",
              "\n",
              "                 CONTRATO                                           CONCEPTO  \\\n",
              "0    ORDEN DE COMPRA 7356  SUMINISTRO DE MATERIAL DE PAPELERIA PARA LAS D...   \n",
              "1    ORDEN DE COMPRA 7279  SUMINISTRO DE PILAS ALCALINAS AA Y AAA PARA LO...   \n",
              "2    ORDEN DE COMPRA 7297  SUMINISTRO DE MATERIALES PARA LA DIR. DE IMAGE...   \n",
              "3    ORDEN DE COMPRA 7373  SUMINISTRO DE MATERIAL REQUERIDO PARA LA REPAR...   \n",
              "4    ORDEN DE COMPRA 7395  SUMINISTRO DE MATERIAL PARA LA FABRICACION DE ...   \n",
              "..                    ...                                                ...   \n",
              "564          SAD-627-2020  CONSUMO DE GASOLINA DE LA SEMANA DEL  08 AL 14...   \n",
              "565          SAD-627-2020  CONSUMO DE DIESEL DE LA SEMANA DEL  08 AL 14  ...   \n",
              "566          SAD-627-2020  CONSUMO DE GASOLINA DE LA SEMANA DEL  22 AL 26...   \n",
              "567          SAD-627-2020  CONSUMO DE GASOLINA DE LA SEMANA DEL  15 AL 21...   \n",
              "568          SAD-627-2020  CONSUMO DE DIESEL DE LA SEMANA DEL 15 AL 21 NO...   \n",
              "\n",
              "    TIPO    FDO-#OP       FECHA    IMPORTE          SHEET  \n",
              "0     TR  1021640.0  2021-12-30    8885.58  GASTOS VARIOS  \n",
              "1     TR  1021489.0  2021-12-10   17774.31  GASTOS VARIOS  \n",
              "2     TR  1021489.0  2021-12-10   21385.84  GASTOS VARIOS  \n",
              "3     TR  1021580.0  2021-12-17   23641.61  GASTOS VARIOS  \n",
              "4     TR  1021580.0  2021-12-17    9014.36  GASTOS VARIOS  \n",
              "..   ...        ...         ...        ...            ...  \n",
              "564   TR  1021620.0  2021-12-24  337446.11  GASTOS VARIOS  \n",
              "565   TR  1021620.0  2021-12-24  109684.73  GASTOS VARIOS  \n",
              "566   TR  1021628.0  2021-12-28  307980.22  GASTOS VARIOS  \n",
              "567   TR  1021645.0  2021-12-31  224160.70  GASTOS VARIOS  \n",
              "568   TR  1021645.0  2021-12-31  188354.56  GASTOS VARIOS  \n",
              "\n",
              "[569 rows x 9 columns]"
            ],
            "text/html": [
              "\n",
              "  <div id=\"df-d4ccc4b0-d666-44d1-8e00-0b5abc447227\">\n",
              "    <div class=\"colab-df-container\">\n",
              "      <div>\n",
              "<style scoped>\n",
              "    .dataframe tbody tr th:only-of-type {\n",
              "        vertical-align: middle;\n",
              "    }\n",
              "\n",
              "    .dataframe tbody tr th {\n",
              "        vertical-align: top;\n",
              "    }\n",
              "\n",
              "    .dataframe thead th {\n",
              "        text-align: right;\n",
              "    }\n",
              "</style>\n",
              "<table border=\"1\" class=\"dataframe\">\n",
              "  <thead>\n",
              "    <tr style=\"text-align: right;\">\n",
              "      <th></th>\n",
              "      <th>BENEFICIARIO</th>\n",
              "      <th>FACT-NUE-FO</th>\n",
              "      <th>CONTRATO</th>\n",
              "      <th>CONCEPTO</th>\n",
              "      <th>TIPO</th>\n",
              "      <th>FDO-#OP</th>\n",
              "      <th>FECHA</th>\n",
              "      <th>IMPORTE</th>\n",
              "      <th>SHEET</th>\n",
              "    </tr>\n",
              "  </thead>\n",
              "  <tbody>\n",
              "    <tr>\n",
              "      <th>0</th>\n",
              "      <td>ALMACEN PAPELERO SALDAÑA, S.A. DE C.V.</td>\n",
              "      <td>MTY7059-158003-5907</td>\n",
              "      <td>ORDEN DE COMPRA 7356</td>\n",
              "      <td>SUMINISTRO DE MATERIAL DE PAPELERIA PARA LAS D...</td>\n",
              "      <td>TR</td>\n",
              "      <td>1021640.0</td>\n",
              "      <td>2021-12-30</td>\n",
              "      <td>8885.58</td>\n",
              "      <td>GASTOS VARIOS</td>\n",
              "    </tr>\n",
              "    <tr>\n",
              "      <th>1</th>\n",
              "      <td>PLOMIFERRETERA EL TORNILLO, S.A. DE C.V.</td>\n",
              "      <td>B24553-158003-5592</td>\n",
              "      <td>ORDEN DE COMPRA 7279</td>\n",
              "      <td>SUMINISTRO DE PILAS ALCALINAS AA Y AAA PARA LO...</td>\n",
              "      <td>TR</td>\n",
              "      <td>1021489.0</td>\n",
              "      <td>2021-12-10</td>\n",
              "      <td>17774.31</td>\n",
              "      <td>GASTOS VARIOS</td>\n",
              "    </tr>\n",
              "    <tr>\n",
              "      <th>2</th>\n",
              "      <td>PLOMIFERRETERA EL TORNILLO, S.A. DE C.V.</td>\n",
              "      <td>B24653-158003-5420</td>\n",
              "      <td>ORDEN DE COMPRA 7297</td>\n",
              "      <td>SUMINISTRO DE MATERIALES PARA LA DIR. DE IMAGE...</td>\n",
              "      <td>TR</td>\n",
              "      <td>1021489.0</td>\n",
              "      <td>2021-12-10</td>\n",
              "      <td>21385.84</td>\n",
              "      <td>GASTOS VARIOS</td>\n",
              "    </tr>\n",
              "    <tr>\n",
              "      <th>3</th>\n",
              "      <td>PLOMIFERRETERA EL TORNILLO, S.A. DE C.V.</td>\n",
              "      <td>B24711-158003-5881</td>\n",
              "      <td>ORDEN DE COMPRA 7373</td>\n",
              "      <td>SUMINISTRO DE MATERIAL REQUERIDO PARA LA REPAR...</td>\n",
              "      <td>TR</td>\n",
              "      <td>1021580.0</td>\n",
              "      <td>2021-12-17</td>\n",
              "      <td>23641.61</td>\n",
              "      <td>GASTOS VARIOS</td>\n",
              "    </tr>\n",
              "    <tr>\n",
              "      <th>4</th>\n",
              "      <td>PLOMIFERRETERA EL TORNILLO, S.A. DE C.V.</td>\n",
              "      <td>B24753-158003-5848</td>\n",
              "      <td>ORDEN DE COMPRA 7395</td>\n",
              "      <td>SUMINISTRO DE MATERIAL PARA LA FABRICACION DE ...</td>\n",
              "      <td>TR</td>\n",
              "      <td>1021580.0</td>\n",
              "      <td>2021-12-17</td>\n",
              "      <td>9014.36</td>\n",
              "      <td>GASTOS VARIOS</td>\n",
              "    </tr>\n",
              "    <tr>\n",
              "      <th>...</th>\n",
              "      <td>...</td>\n",
              "      <td>...</td>\n",
              "      <td>...</td>\n",
              "      <td>...</td>\n",
              "      <td>...</td>\n",
              "      <td>...</td>\n",
              "      <td>...</td>\n",
              "      <td>...</td>\n",
              "      <td>...</td>\n",
              "    </tr>\n",
              "    <tr>\n",
              "      <th>564</th>\n",
              "      <td>GS GAS Q, S.A. DE C.V.</td>\n",
              "      <td>BPLGK  78473091-158003-5928</td>\n",
              "      <td>SAD-627-2020</td>\n",
              "      <td>CONSUMO DE GASOLINA DE LA SEMANA DEL  08 AL 14...</td>\n",
              "      <td>TR</td>\n",
              "      <td>1021620.0</td>\n",
              "      <td>2021-12-24</td>\n",
              "      <td>337446.11</td>\n",
              "      <td>GASTOS VARIOS</td>\n",
              "    </tr>\n",
              "    <tr>\n",
              "      <th>565</th>\n",
              "      <td>GS GAS Q, S.A. DE C.V.</td>\n",
              "      <td>BPLGK 78473092-158003-5929</td>\n",
              "      <td>SAD-627-2020</td>\n",
              "      <td>CONSUMO DE DIESEL DE LA SEMANA DEL  08 AL 14  ...</td>\n",
              "      <td>TR</td>\n",
              "      <td>1021620.0</td>\n",
              "      <td>2021-12-24</td>\n",
              "      <td>109684.73</td>\n",
              "      <td>GASTOS VARIOS</td>\n",
              "    </tr>\n",
              "    <tr>\n",
              "      <th>566</th>\n",
              "      <td>GS GAS Q, S.A. DE C.V.</td>\n",
              "      <td>BPLGK 78472877-158003-5152</td>\n",
              "      <td>SAD-627-2020</td>\n",
              "      <td>CONSUMO DE GASOLINA DE LA SEMANA DEL  22 AL 26...</td>\n",
              "      <td>TR</td>\n",
              "      <td>1021628.0</td>\n",
              "      <td>2021-12-28</td>\n",
              "      <td>307980.22</td>\n",
              "      <td>GASTOS VARIOS</td>\n",
              "    </tr>\n",
              "    <tr>\n",
              "      <th>567</th>\n",
              "      <td>GS GAS Q, S.A. DE C.V.</td>\n",
              "      <td>BPLGK  78473126-158003-5954</td>\n",
              "      <td>SAD-627-2020</td>\n",
              "      <td>CONSUMO DE GASOLINA DE LA SEMANA DEL  15 AL 21...</td>\n",
              "      <td>TR</td>\n",
              "      <td>1021645.0</td>\n",
              "      <td>2021-12-31</td>\n",
              "      <td>224160.70</td>\n",
              "      <td>GASTOS VARIOS</td>\n",
              "    </tr>\n",
              "    <tr>\n",
              "      <th>568</th>\n",
              "      <td>GS GAS Q, S.A. DE C.V.</td>\n",
              "      <td>BPLGK 78473128-158003-5950</td>\n",
              "      <td>SAD-627-2020</td>\n",
              "      <td>CONSUMO DE DIESEL DE LA SEMANA DEL 15 AL 21 NO...</td>\n",
              "      <td>TR</td>\n",
              "      <td>1021645.0</td>\n",
              "      <td>2021-12-31</td>\n",
              "      <td>188354.56</td>\n",
              "      <td>GASTOS VARIOS</td>\n",
              "    </tr>\n",
              "  </tbody>\n",
              "</table>\n",
              "<p>569 rows × 9 columns</p>\n",
              "</div>\n",
              "      <button class=\"colab-df-convert\" onclick=\"convertToInteractive('df-d4ccc4b0-d666-44d1-8e00-0b5abc447227')\"\n",
              "              title=\"Convert this dataframe to an interactive table.\"\n",
              "              style=\"display:none;\">\n",
              "        \n",
              "  <svg xmlns=\"http://www.w3.org/2000/svg\" height=\"24px\"viewBox=\"0 0 24 24\"\n",
              "       width=\"24px\">\n",
              "    <path d=\"M0 0h24v24H0V0z\" fill=\"none\"/>\n",
              "    <path d=\"M18.56 5.44l.94 2.06.94-2.06 2.06-.94-2.06-.94-.94-2.06-.94 2.06-2.06.94zm-11 1L8.5 8.5l.94-2.06 2.06-.94-2.06-.94L8.5 2.5l-.94 2.06-2.06.94zm10 10l.94 2.06.94-2.06 2.06-.94-2.06-.94-.94-2.06-.94 2.06-2.06.94z\"/><path d=\"M17.41 7.96l-1.37-1.37c-.4-.4-.92-.59-1.43-.59-.52 0-1.04.2-1.43.59L10.3 9.45l-7.72 7.72c-.78.78-.78 2.05 0 2.83L4 21.41c.39.39.9.59 1.41.59.51 0 1.02-.2 1.41-.59l7.78-7.78 2.81-2.81c.8-.78.8-2.07 0-2.86zM5.41 20L4 18.59l7.72-7.72 1.47 1.35L5.41 20z\"/>\n",
              "  </svg>\n",
              "      </button>\n",
              "      \n",
              "  <style>\n",
              "    .colab-df-container {\n",
              "      display:flex;\n",
              "      flex-wrap:wrap;\n",
              "      gap: 12px;\n",
              "    }\n",
              "\n",
              "    .colab-df-convert {\n",
              "      background-color: #E8F0FE;\n",
              "      border: none;\n",
              "      border-radius: 50%;\n",
              "      cursor: pointer;\n",
              "      display: none;\n",
              "      fill: #1967D2;\n",
              "      height: 32px;\n",
              "      padding: 0 0 0 0;\n",
              "      width: 32px;\n",
              "    }\n",
              "\n",
              "    .colab-df-convert:hover {\n",
              "      background-color: #E2EBFA;\n",
              "      box-shadow: 0px 1px 2px rgba(60, 64, 67, 0.3), 0px 1px 3px 1px rgba(60, 64, 67, 0.15);\n",
              "      fill: #174EA6;\n",
              "    }\n",
              "\n",
              "    [theme=dark] .colab-df-convert {\n",
              "      background-color: #3B4455;\n",
              "      fill: #D2E3FC;\n",
              "    }\n",
              "\n",
              "    [theme=dark] .colab-df-convert:hover {\n",
              "      background-color: #434B5C;\n",
              "      box-shadow: 0px 1px 3px 1px rgba(0, 0, 0, 0.15);\n",
              "      filter: drop-shadow(0px 1px 2px rgba(0, 0, 0, 0.3));\n",
              "      fill: #FFFFFF;\n",
              "    }\n",
              "  </style>\n",
              "\n",
              "      <script>\n",
              "        const buttonEl =\n",
              "          document.querySelector('#df-d4ccc4b0-d666-44d1-8e00-0b5abc447227 button.colab-df-convert');\n",
              "        buttonEl.style.display =\n",
              "          google.colab.kernel.accessAllowed ? 'block' : 'none';\n",
              "\n",
              "        async function convertToInteractive(key) {\n",
              "          const element = document.querySelector('#df-d4ccc4b0-d666-44d1-8e00-0b5abc447227');\n",
              "          const dataTable =\n",
              "            await google.colab.kernel.invokeFunction('convertToInteractive',\n",
              "                                                     [key], {});\n",
              "          if (!dataTable) return;\n",
              "\n",
              "          const docLinkHtml = 'Like what you see? Visit the ' +\n",
              "            '<a target=\"_blank\" href=https://colab.research.google.com/notebooks/data_table.ipynb>data table notebook</a>'\n",
              "            + ' to learn more about interactive tables.';\n",
              "          element.innerHTML = '';\n",
              "          dataTable['output_type'] = 'display_data';\n",
              "          await google.colab.output.renderOutput(dataTable, element);\n",
              "          const docLink = document.createElement('div');\n",
              "          docLink.innerHTML = docLinkHtml;\n",
              "          element.appendChild(docLink);\n",
              "        }\n",
              "      </script>\n",
              "    </div>\n",
              "  </div>\n",
              "  "
            ]
          },
          "metadata": {},
          "execution_count": 45
        }
      ],
      "source": [
        "## Gastos varios\n",
        "compras_gastos_df = compras_df[compras_df['SHEET']=='GASTOS VARIOS']\n",
        "compras_gastos_df"
      ]
    },
    {
      "cell_type": "code",
      "execution_count": 46,
      "id": "6516b751",
      "metadata": {
        "scrolled": true,
        "id": "6516b751",
        "outputId": "6d1e2bb8-bf2b-4050-b4db-984e9569739b",
        "colab": {
          "base_uri": "https://localhost:8080/",
          "height": 824
        }
      },
      "outputs": [
        {
          "output_type": "execute_result",
          "data": {
            "text/plain": [
              "                            BENEFICIARIO               FACT-NUE-FO   CONTRATO  \\\n",
              "198  MUNICIPIO DE LA CIUDAD DE MONTERREY     2021-23-A-158004-3141  NO APLICA   \n",
              "199  MUNICIPIO DE LA CIUDAD DE MONTERREY     2021-23-B-158004-3143  NO APLICA   \n",
              "200  MUNICIPIO DE LA CIUDAD DE MONTERREY     2021-23-C-158004-3140  NO APLICA   \n",
              "201  MUNICIPIO DE LA CIUDAD DE MONTERREY    2021-231-C-158004-3164  NO APLICA   \n",
              "202  MUNICIPIO DE LA CIUDAD DE MONTERREY  2021-23-BBVA-158004-3142  NO APLICA   \n",
              "203  MUNICIPIO DE LA CIUDAD DE MONTERREY     2021-24-A-158004-3175  NO APLICA   \n",
              "204  MUNICIPIO DE LA CIUDAD DE MONTERREY     2021-24-A-158004-3190  NO APLICA   \n",
              "205  MUNICIPIO DE LA CIUDAD DE MONTERREY     2021-24-B-158004-3177  NO APLICA   \n",
              "206  MUNICIPIO DE LA CIUDAD DE MONTERREY     2021-24-B-158004-3192  NO APLICA   \n",
              "207  MUNICIPIO DE LA CIUDAD DE MONTERREY     2021-24-C-158004-3174  NO APLICA   \n",
              "208  MUNICIPIO DE LA CIUDAD DE MONTERREY     2021-23-C-158004-3159  NO APLICA   \n",
              "209  MUNICIPIO DE LA CIUDAD DE MONTERREY     2021-24-C-158004-3193  NO APLICA   \n",
              "210  MUNICIPIO DE LA CIUDAD DE MONTERREY     2021-24-C-158004-3189  NO APLICA   \n",
              "211  MUNICIPIO DE LA CIUDAD DE MONTERREY  2021-24-BBVA-158004-3176  NO APLICA   \n",
              "212  MUNICIPIO DE LA CIUDAD DE MONTERREY  2021-24-BBVA-158004-3191  NO APLICA   \n",
              "\n",
              "                                              CONCEPTO TIPO      FDO-#OP  \\\n",
              "198  PAGO DE NÓMINA PERIODO: 23-2021, BANCO: BANCA ...   TR   11000233.0   \n",
              "199  PAGO DE NÓMINA PERIODO: 23-2021, BANCO: BANCO ...   TR  231000140.0   \n",
              "200  PAGO DE NÓMINA PERIODO: 23-2021, BANCO: BANCO ...   TR  240000150.0   \n",
              "201  PAGO DE NÓMINA PERIODO: 231-2021-C2, BANCO: BA...   TR  240000151.0   \n",
              "202  PAGO DE NÓMINA PERIODO: 23-2021, BANCO: BBVA B...   TR  328000003.0   \n",
              "203  PAGO DE NÓMINA PERIODO: 24-2021, BANCO: BANCA ...   TR   11000234.0   \n",
              "204  PAGO DE NÓMINA PERIODO: 24-2021-E1, BANCO: BAN...   TR   11000235.0   \n",
              "205  PAGO DE NÓMINA PERIODO: 24-2021, BANCO: BANCO ...   TR  231000141.0   \n",
              "206  PAGO DE NÓMINA PERIODO: 24-2021-E1, BANCO: BAN...   TR  231000142.0   \n",
              "207  PAGO DE NÓMINA PERIODO: 24-2021, BANCO: BANCO ...   TR  240000152.0   \n",
              "208  PAGO DE NÓMINA PERIODO: 23-2021-C, BANCO: BANC...   TR  240000153.0   \n",
              "209  PAGO DE NÓMINA PERIODO: 24-2021-C1, BANCO: BAN...   TR  240000154.0   \n",
              "210  PAGO DE NÓMINA PERIODO: 24-2021-E1, BANCO: BAN...   TR  240000155.0   \n",
              "211  PAGO DE NÓMINA PERIODO: 24-2021, BANCO: BBVA B...   TR  328000004.0   \n",
              "212  PAGO DE NÓMINA PERIODO: 24-2021-E1, BANCO: BBV...   TR  328000005.0   \n",
              "\n",
              "          FECHA      IMPORTE          SHEET  \n",
              "198  2021-12-17  82991217.59  GASTOS VARIOS  \n",
              "199  2021-12-17  58389701.30  GASTOS VARIOS  \n",
              "200  2021-12-17   9483526.66  GASTOS VARIOS  \n",
              "201  2021-12-17    214597.10  GASTOS VARIOS  \n",
              "202  2021-12-17   2778013.03  GASTOS VARIOS  \n",
              "203  2021-12-20  43436462.19  GASTOS VARIOS  \n",
              "204  2021-12-20     82625.60  GASTOS VARIOS  \n",
              "205  2021-12-20  26792369.33  GASTOS VARIOS  \n",
              "206  2021-12-20    101745.84  GASTOS VARIOS  \n",
              "207  2021-12-20   4162233.82  GASTOS VARIOS  \n",
              "208  2021-12-20     23690.23  GASTOS VARIOS  \n",
              "209  2021-12-20     42075.50  GASTOS VARIOS  \n",
              "210  2021-12-20      4200.00  GASTOS VARIOS  \n",
              "211  2021-12-20   1918261.09  GASTOS VARIOS  \n",
              "212  2021-12-20      6241.60  GASTOS VARIOS  "
            ],
            "text/html": [
              "\n",
              "  <div id=\"df-37fe446d-5ec0-45c3-bd1d-31fc5b85512c\">\n",
              "    <div class=\"colab-df-container\">\n",
              "      <div>\n",
              "<style scoped>\n",
              "    .dataframe tbody tr th:only-of-type {\n",
              "        vertical-align: middle;\n",
              "    }\n",
              "\n",
              "    .dataframe tbody tr th {\n",
              "        vertical-align: top;\n",
              "    }\n",
              "\n",
              "    .dataframe thead th {\n",
              "        text-align: right;\n",
              "    }\n",
              "</style>\n",
              "<table border=\"1\" class=\"dataframe\">\n",
              "  <thead>\n",
              "    <tr style=\"text-align: right;\">\n",
              "      <th></th>\n",
              "      <th>BENEFICIARIO</th>\n",
              "      <th>FACT-NUE-FO</th>\n",
              "      <th>CONTRATO</th>\n",
              "      <th>CONCEPTO</th>\n",
              "      <th>TIPO</th>\n",
              "      <th>FDO-#OP</th>\n",
              "      <th>FECHA</th>\n",
              "      <th>IMPORTE</th>\n",
              "      <th>SHEET</th>\n",
              "    </tr>\n",
              "  </thead>\n",
              "  <tbody>\n",
              "    <tr>\n",
              "      <th>198</th>\n",
              "      <td>MUNICIPIO DE LA CIUDAD DE MONTERREY</td>\n",
              "      <td>2021-23-A-158004-3141</td>\n",
              "      <td>NO APLICA</td>\n",
              "      <td>PAGO DE NÓMINA PERIODO: 23-2021, BANCO: BANCA ...</td>\n",
              "      <td>TR</td>\n",
              "      <td>11000233.0</td>\n",
              "      <td>2021-12-17</td>\n",
              "      <td>82991217.59</td>\n",
              "      <td>GASTOS VARIOS</td>\n",
              "    </tr>\n",
              "    <tr>\n",
              "      <th>199</th>\n",
              "      <td>MUNICIPIO DE LA CIUDAD DE MONTERREY</td>\n",
              "      <td>2021-23-B-158004-3143</td>\n",
              "      <td>NO APLICA</td>\n",
              "      <td>PAGO DE NÓMINA PERIODO: 23-2021, BANCO: BANCO ...</td>\n",
              "      <td>TR</td>\n",
              "      <td>231000140.0</td>\n",
              "      <td>2021-12-17</td>\n",
              "      <td>58389701.30</td>\n",
              "      <td>GASTOS VARIOS</td>\n",
              "    </tr>\n",
              "    <tr>\n",
              "      <th>200</th>\n",
              "      <td>MUNICIPIO DE LA CIUDAD DE MONTERREY</td>\n",
              "      <td>2021-23-C-158004-3140</td>\n",
              "      <td>NO APLICA</td>\n",
              "      <td>PAGO DE NÓMINA PERIODO: 23-2021, BANCO: BANCO ...</td>\n",
              "      <td>TR</td>\n",
              "      <td>240000150.0</td>\n",
              "      <td>2021-12-17</td>\n",
              "      <td>9483526.66</td>\n",
              "      <td>GASTOS VARIOS</td>\n",
              "    </tr>\n",
              "    <tr>\n",
              "      <th>201</th>\n",
              "      <td>MUNICIPIO DE LA CIUDAD DE MONTERREY</td>\n",
              "      <td>2021-231-C-158004-3164</td>\n",
              "      <td>NO APLICA</td>\n",
              "      <td>PAGO DE NÓMINA PERIODO: 231-2021-C2, BANCO: BA...</td>\n",
              "      <td>TR</td>\n",
              "      <td>240000151.0</td>\n",
              "      <td>2021-12-17</td>\n",
              "      <td>214597.10</td>\n",
              "      <td>GASTOS VARIOS</td>\n",
              "    </tr>\n",
              "    <tr>\n",
              "      <th>202</th>\n",
              "      <td>MUNICIPIO DE LA CIUDAD DE MONTERREY</td>\n",
              "      <td>2021-23-BBVA-158004-3142</td>\n",
              "      <td>NO APLICA</td>\n",
              "      <td>PAGO DE NÓMINA PERIODO: 23-2021, BANCO: BBVA B...</td>\n",
              "      <td>TR</td>\n",
              "      <td>328000003.0</td>\n",
              "      <td>2021-12-17</td>\n",
              "      <td>2778013.03</td>\n",
              "      <td>GASTOS VARIOS</td>\n",
              "    </tr>\n",
              "    <tr>\n",
              "      <th>203</th>\n",
              "      <td>MUNICIPIO DE LA CIUDAD DE MONTERREY</td>\n",
              "      <td>2021-24-A-158004-3175</td>\n",
              "      <td>NO APLICA</td>\n",
              "      <td>PAGO DE NÓMINA PERIODO: 24-2021, BANCO: BANCA ...</td>\n",
              "      <td>TR</td>\n",
              "      <td>11000234.0</td>\n",
              "      <td>2021-12-20</td>\n",
              "      <td>43436462.19</td>\n",
              "      <td>GASTOS VARIOS</td>\n",
              "    </tr>\n",
              "    <tr>\n",
              "      <th>204</th>\n",
              "      <td>MUNICIPIO DE LA CIUDAD DE MONTERREY</td>\n",
              "      <td>2021-24-A-158004-3190</td>\n",
              "      <td>NO APLICA</td>\n",
              "      <td>PAGO DE NÓMINA PERIODO: 24-2021-E1, BANCO: BAN...</td>\n",
              "      <td>TR</td>\n",
              "      <td>11000235.0</td>\n",
              "      <td>2021-12-20</td>\n",
              "      <td>82625.60</td>\n",
              "      <td>GASTOS VARIOS</td>\n",
              "    </tr>\n",
              "    <tr>\n",
              "      <th>205</th>\n",
              "      <td>MUNICIPIO DE LA CIUDAD DE MONTERREY</td>\n",
              "      <td>2021-24-B-158004-3177</td>\n",
              "      <td>NO APLICA</td>\n",
              "      <td>PAGO DE NÓMINA PERIODO: 24-2021, BANCO: BANCO ...</td>\n",
              "      <td>TR</td>\n",
              "      <td>231000141.0</td>\n",
              "      <td>2021-12-20</td>\n",
              "      <td>26792369.33</td>\n",
              "      <td>GASTOS VARIOS</td>\n",
              "    </tr>\n",
              "    <tr>\n",
              "      <th>206</th>\n",
              "      <td>MUNICIPIO DE LA CIUDAD DE MONTERREY</td>\n",
              "      <td>2021-24-B-158004-3192</td>\n",
              "      <td>NO APLICA</td>\n",
              "      <td>PAGO DE NÓMINA PERIODO: 24-2021-E1, BANCO: BAN...</td>\n",
              "      <td>TR</td>\n",
              "      <td>231000142.0</td>\n",
              "      <td>2021-12-20</td>\n",
              "      <td>101745.84</td>\n",
              "      <td>GASTOS VARIOS</td>\n",
              "    </tr>\n",
              "    <tr>\n",
              "      <th>207</th>\n",
              "      <td>MUNICIPIO DE LA CIUDAD DE MONTERREY</td>\n",
              "      <td>2021-24-C-158004-3174</td>\n",
              "      <td>NO APLICA</td>\n",
              "      <td>PAGO DE NÓMINA PERIODO: 24-2021, BANCO: BANCO ...</td>\n",
              "      <td>TR</td>\n",
              "      <td>240000152.0</td>\n",
              "      <td>2021-12-20</td>\n",
              "      <td>4162233.82</td>\n",
              "      <td>GASTOS VARIOS</td>\n",
              "    </tr>\n",
              "    <tr>\n",
              "      <th>208</th>\n",
              "      <td>MUNICIPIO DE LA CIUDAD DE MONTERREY</td>\n",
              "      <td>2021-23-C-158004-3159</td>\n",
              "      <td>NO APLICA</td>\n",
              "      <td>PAGO DE NÓMINA PERIODO: 23-2021-C, BANCO: BANC...</td>\n",
              "      <td>TR</td>\n",
              "      <td>240000153.0</td>\n",
              "      <td>2021-12-20</td>\n",
              "      <td>23690.23</td>\n",
              "      <td>GASTOS VARIOS</td>\n",
              "    </tr>\n",
              "    <tr>\n",
              "      <th>209</th>\n",
              "      <td>MUNICIPIO DE LA CIUDAD DE MONTERREY</td>\n",
              "      <td>2021-24-C-158004-3193</td>\n",
              "      <td>NO APLICA</td>\n",
              "      <td>PAGO DE NÓMINA PERIODO: 24-2021-C1, BANCO: BAN...</td>\n",
              "      <td>TR</td>\n",
              "      <td>240000154.0</td>\n",
              "      <td>2021-12-20</td>\n",
              "      <td>42075.50</td>\n",
              "      <td>GASTOS VARIOS</td>\n",
              "    </tr>\n",
              "    <tr>\n",
              "      <th>210</th>\n",
              "      <td>MUNICIPIO DE LA CIUDAD DE MONTERREY</td>\n",
              "      <td>2021-24-C-158004-3189</td>\n",
              "      <td>NO APLICA</td>\n",
              "      <td>PAGO DE NÓMINA PERIODO: 24-2021-E1, BANCO: BAN...</td>\n",
              "      <td>TR</td>\n",
              "      <td>240000155.0</td>\n",
              "      <td>2021-12-20</td>\n",
              "      <td>4200.00</td>\n",
              "      <td>GASTOS VARIOS</td>\n",
              "    </tr>\n",
              "    <tr>\n",
              "      <th>211</th>\n",
              "      <td>MUNICIPIO DE LA CIUDAD DE MONTERREY</td>\n",
              "      <td>2021-24-BBVA-158004-3176</td>\n",
              "      <td>NO APLICA</td>\n",
              "      <td>PAGO DE NÓMINA PERIODO: 24-2021, BANCO: BBVA B...</td>\n",
              "      <td>TR</td>\n",
              "      <td>328000004.0</td>\n",
              "      <td>2021-12-20</td>\n",
              "      <td>1918261.09</td>\n",
              "      <td>GASTOS VARIOS</td>\n",
              "    </tr>\n",
              "    <tr>\n",
              "      <th>212</th>\n",
              "      <td>MUNICIPIO DE LA CIUDAD DE MONTERREY</td>\n",
              "      <td>2021-24-BBVA-158004-3191</td>\n",
              "      <td>NO APLICA</td>\n",
              "      <td>PAGO DE NÓMINA PERIODO: 24-2021-E1, BANCO: BBV...</td>\n",
              "      <td>TR</td>\n",
              "      <td>328000005.0</td>\n",
              "      <td>2021-12-20</td>\n",
              "      <td>6241.60</td>\n",
              "      <td>GASTOS VARIOS</td>\n",
              "    </tr>\n",
              "  </tbody>\n",
              "</table>\n",
              "</div>\n",
              "      <button class=\"colab-df-convert\" onclick=\"convertToInteractive('df-37fe446d-5ec0-45c3-bd1d-31fc5b85512c')\"\n",
              "              title=\"Convert this dataframe to an interactive table.\"\n",
              "              style=\"display:none;\">\n",
              "        \n",
              "  <svg xmlns=\"http://www.w3.org/2000/svg\" height=\"24px\"viewBox=\"0 0 24 24\"\n",
              "       width=\"24px\">\n",
              "    <path d=\"M0 0h24v24H0V0z\" fill=\"none\"/>\n",
              "    <path d=\"M18.56 5.44l.94 2.06.94-2.06 2.06-.94-2.06-.94-.94-2.06-.94 2.06-2.06.94zm-11 1L8.5 8.5l.94-2.06 2.06-.94-2.06-.94L8.5 2.5l-.94 2.06-2.06.94zm10 10l.94 2.06.94-2.06 2.06-.94-2.06-.94-.94-2.06-.94 2.06-2.06.94z\"/><path d=\"M17.41 7.96l-1.37-1.37c-.4-.4-.92-.59-1.43-.59-.52 0-1.04.2-1.43.59L10.3 9.45l-7.72 7.72c-.78.78-.78 2.05 0 2.83L4 21.41c.39.39.9.59 1.41.59.51 0 1.02-.2 1.41-.59l7.78-7.78 2.81-2.81c.8-.78.8-2.07 0-2.86zM5.41 20L4 18.59l7.72-7.72 1.47 1.35L5.41 20z\"/>\n",
              "  </svg>\n",
              "      </button>\n",
              "      \n",
              "  <style>\n",
              "    .colab-df-container {\n",
              "      display:flex;\n",
              "      flex-wrap:wrap;\n",
              "      gap: 12px;\n",
              "    }\n",
              "\n",
              "    .colab-df-convert {\n",
              "      background-color: #E8F0FE;\n",
              "      border: none;\n",
              "      border-radius: 50%;\n",
              "      cursor: pointer;\n",
              "      display: none;\n",
              "      fill: #1967D2;\n",
              "      height: 32px;\n",
              "      padding: 0 0 0 0;\n",
              "      width: 32px;\n",
              "    }\n",
              "\n",
              "    .colab-df-convert:hover {\n",
              "      background-color: #E2EBFA;\n",
              "      box-shadow: 0px 1px 2px rgba(60, 64, 67, 0.3), 0px 1px 3px 1px rgba(60, 64, 67, 0.15);\n",
              "      fill: #174EA6;\n",
              "    }\n",
              "\n",
              "    [theme=dark] .colab-df-convert {\n",
              "      background-color: #3B4455;\n",
              "      fill: #D2E3FC;\n",
              "    }\n",
              "\n",
              "    [theme=dark] .colab-df-convert:hover {\n",
              "      background-color: #434B5C;\n",
              "      box-shadow: 0px 1px 3px 1px rgba(0, 0, 0, 0.15);\n",
              "      filter: drop-shadow(0px 1px 2px rgba(0, 0, 0, 0.3));\n",
              "      fill: #FFFFFF;\n",
              "    }\n",
              "  </style>\n",
              "\n",
              "      <script>\n",
              "        const buttonEl =\n",
              "          document.querySelector('#df-37fe446d-5ec0-45c3-bd1d-31fc5b85512c button.colab-df-convert');\n",
              "        buttonEl.style.display =\n",
              "          google.colab.kernel.accessAllowed ? 'block' : 'none';\n",
              "\n",
              "        async function convertToInteractive(key) {\n",
              "          const element = document.querySelector('#df-37fe446d-5ec0-45c3-bd1d-31fc5b85512c');\n",
              "          const dataTable =\n",
              "            await google.colab.kernel.invokeFunction('convertToInteractive',\n",
              "                                                     [key], {});\n",
              "          if (!dataTable) return;\n",
              "\n",
              "          const docLinkHtml = 'Like what you see? Visit the ' +\n",
              "            '<a target=\"_blank\" href=https://colab.research.google.com/notebooks/data_table.ipynb>data table notebook</a>'\n",
              "            + ' to learn more about interactive tables.';\n",
              "          element.innerHTML = '';\n",
              "          dataTable['output_type'] = 'display_data';\n",
              "          await google.colab.output.renderOutput(dataTable, element);\n",
              "          const docLink = document.createElement('div');\n",
              "          docLink.innerHTML = docLinkHtml;\n",
              "          element.appendChild(docLink);\n",
              "        }\n",
              "      </script>\n",
              "    </div>\n",
              "  </div>\n",
              "  "
            ]
          },
          "metadata": {},
          "execution_count": 46
        }
      ],
      "source": [
        "## cuando el benficiario es el municipio de Monterrey\n",
        "\n",
        "compras_gastos_df[compras_gastos_df['BENEFICIARIO']=='MUNICIPIO DE LA CIUDAD DE MONTERREY']"
      ]
    },
    {
      "cell_type": "code",
      "execution_count": 47,
      "id": "81008d65",
      "metadata": {
        "id": "81008d65",
        "outputId": "b7514c3d-bf21-4244-de53-31bb4dfe0188",
        "colab": {
          "base_uri": "https://localhost:8080/"
        }
      },
      "outputs": [
        {
          "output_type": "execute_result",
          "data": {
            "text/plain": [
              "GASTOS VARIOS    15\n",
              "Name: SHEET, dtype: int64"
            ]
          },
          "metadata": {},
          "execution_count": 47
        }
      ],
      "source": [
        "#Cuales son las observaciones por tipo de gastos, en municipio de Monterrey que ha recibido:\n",
        "compras_df[compras_df['BENEFICIARIO']=='MUNICIPIO DE LA CIUDAD DE MONTERREY']['SHEET'].value_counts()"
      ]
    },
    {
      "cell_type": "code",
      "execution_count": 48,
      "id": "5f9e6463",
      "metadata": {
        "id": "5f9e6463"
      },
      "outputs": [],
      "source": [
        "compras_sheet_beneficiarios = compras_gastos_df.groupby(['BENEFICIARIO', 'SHEET']).sum()['IMPORTE'].sort_values()"
      ]
    },
    {
      "cell_type": "code",
      "execution_count": 49,
      "id": "e6ed2cfd",
      "metadata": {
        "id": "e6ed2cfd",
        "outputId": "1571434e-6419-445b-f21d-f2ab7cba9712",
        "colab": {
          "base_uri": "https://localhost:8080/",
          "height": 454
        }
      },
      "outputs": [
        {
          "output_type": "execute_result",
          "data": {
            "text/plain": [
              "SHEET                                               GASTOS VARIOS\n",
              "BENEFICIARIO                                                     \n",
              "ALBORES MONTOYA FELICITAS                                67833.55\n",
              "ALMACEN PAPELERO SALDAÑA, S.A. DE C.V.                    8885.58\n",
              "ALONSO ORTIZ FELICITAS                                    4577.25\n",
              "ALVARADO GONZALEZ NICOLAS                                 4774.00\n",
              "ALVAREZ JIMENEZ MARIANA GUADALUPE                          537.72\n",
              "...                                                           ...\n",
              "VALERO ALANIS ANDRES FERNANDO                            56777.28\n",
              "VALUE ARRENDADORA,S.A.DE C.V. SOFOM ER VALUE GP...     5495069.38\n",
              "VEGA MORALES DAVID                                        4695.86\n",
              "VILLARREAL LEAL RODOLFO GILBERTO                          1120.00\n",
              "VILLEGAS CERDA MARIA DEL CARMEN                          53076.65\n",
              "\n",
              "[193 rows x 1 columns]"
            ],
            "text/html": [
              "\n",
              "  <div id=\"df-394bc34a-aa08-48c4-8fdc-9febf8f93364\">\n",
              "    <div class=\"colab-df-container\">\n",
              "      <div>\n",
              "<style scoped>\n",
              "    .dataframe tbody tr th:only-of-type {\n",
              "        vertical-align: middle;\n",
              "    }\n",
              "\n",
              "    .dataframe tbody tr th {\n",
              "        vertical-align: top;\n",
              "    }\n",
              "\n",
              "    .dataframe thead th {\n",
              "        text-align: right;\n",
              "    }\n",
              "</style>\n",
              "<table border=\"1\" class=\"dataframe\">\n",
              "  <thead>\n",
              "    <tr style=\"text-align: right;\">\n",
              "      <th>SHEET</th>\n",
              "      <th>GASTOS VARIOS</th>\n",
              "    </tr>\n",
              "    <tr>\n",
              "      <th>BENEFICIARIO</th>\n",
              "      <th></th>\n",
              "    </tr>\n",
              "  </thead>\n",
              "  <tbody>\n",
              "    <tr>\n",
              "      <th>ALBORES MONTOYA FELICITAS</th>\n",
              "      <td>67833.55</td>\n",
              "    </tr>\n",
              "    <tr>\n",
              "      <th>ALMACEN PAPELERO SALDAÑA, S.A. DE C.V.</th>\n",
              "      <td>8885.58</td>\n",
              "    </tr>\n",
              "    <tr>\n",
              "      <th>ALONSO ORTIZ FELICITAS</th>\n",
              "      <td>4577.25</td>\n",
              "    </tr>\n",
              "    <tr>\n",
              "      <th>ALVARADO GONZALEZ NICOLAS</th>\n",
              "      <td>4774.00</td>\n",
              "    </tr>\n",
              "    <tr>\n",
              "      <th>ALVAREZ JIMENEZ MARIANA GUADALUPE</th>\n",
              "      <td>537.72</td>\n",
              "    </tr>\n",
              "    <tr>\n",
              "      <th>...</th>\n",
              "      <td>...</td>\n",
              "    </tr>\n",
              "    <tr>\n",
              "      <th>VALERO ALANIS ANDRES FERNANDO</th>\n",
              "      <td>56777.28</td>\n",
              "    </tr>\n",
              "    <tr>\n",
              "      <th>VALUE ARRENDADORA,S.A.DE C.V. SOFOM ER VALUE GPO.FIN.</th>\n",
              "      <td>5495069.38</td>\n",
              "    </tr>\n",
              "    <tr>\n",
              "      <th>VEGA MORALES DAVID</th>\n",
              "      <td>4695.86</td>\n",
              "    </tr>\n",
              "    <tr>\n",
              "      <th>VILLARREAL LEAL RODOLFO GILBERTO</th>\n",
              "      <td>1120.00</td>\n",
              "    </tr>\n",
              "    <tr>\n",
              "      <th>VILLEGAS CERDA MARIA DEL CARMEN</th>\n",
              "      <td>53076.65</td>\n",
              "    </tr>\n",
              "  </tbody>\n",
              "</table>\n",
              "<p>193 rows × 1 columns</p>\n",
              "</div>\n",
              "      <button class=\"colab-df-convert\" onclick=\"convertToInteractive('df-394bc34a-aa08-48c4-8fdc-9febf8f93364')\"\n",
              "              title=\"Convert this dataframe to an interactive table.\"\n",
              "              style=\"display:none;\">\n",
              "        \n",
              "  <svg xmlns=\"http://www.w3.org/2000/svg\" height=\"24px\"viewBox=\"0 0 24 24\"\n",
              "       width=\"24px\">\n",
              "    <path d=\"M0 0h24v24H0V0z\" fill=\"none\"/>\n",
              "    <path d=\"M18.56 5.44l.94 2.06.94-2.06 2.06-.94-2.06-.94-.94-2.06-.94 2.06-2.06.94zm-11 1L8.5 8.5l.94-2.06 2.06-.94-2.06-.94L8.5 2.5l-.94 2.06-2.06.94zm10 10l.94 2.06.94-2.06 2.06-.94-2.06-.94-.94-2.06-.94 2.06-2.06.94z\"/><path d=\"M17.41 7.96l-1.37-1.37c-.4-.4-.92-.59-1.43-.59-.52 0-1.04.2-1.43.59L10.3 9.45l-7.72 7.72c-.78.78-.78 2.05 0 2.83L4 21.41c.39.39.9.59 1.41.59.51 0 1.02-.2 1.41-.59l7.78-7.78 2.81-2.81c.8-.78.8-2.07 0-2.86zM5.41 20L4 18.59l7.72-7.72 1.47 1.35L5.41 20z\"/>\n",
              "  </svg>\n",
              "      </button>\n",
              "      \n",
              "  <style>\n",
              "    .colab-df-container {\n",
              "      display:flex;\n",
              "      flex-wrap:wrap;\n",
              "      gap: 12px;\n",
              "    }\n",
              "\n",
              "    .colab-df-convert {\n",
              "      background-color: #E8F0FE;\n",
              "      border: none;\n",
              "      border-radius: 50%;\n",
              "      cursor: pointer;\n",
              "      display: none;\n",
              "      fill: #1967D2;\n",
              "      height: 32px;\n",
              "      padding: 0 0 0 0;\n",
              "      width: 32px;\n",
              "    }\n",
              "\n",
              "    .colab-df-convert:hover {\n",
              "      background-color: #E2EBFA;\n",
              "      box-shadow: 0px 1px 2px rgba(60, 64, 67, 0.3), 0px 1px 3px 1px rgba(60, 64, 67, 0.15);\n",
              "      fill: #174EA6;\n",
              "    }\n",
              "\n",
              "    [theme=dark] .colab-df-convert {\n",
              "      background-color: #3B4455;\n",
              "      fill: #D2E3FC;\n",
              "    }\n",
              "\n",
              "    [theme=dark] .colab-df-convert:hover {\n",
              "      background-color: #434B5C;\n",
              "      box-shadow: 0px 1px 3px 1px rgba(0, 0, 0, 0.15);\n",
              "      filter: drop-shadow(0px 1px 2px rgba(0, 0, 0, 0.3));\n",
              "      fill: #FFFFFF;\n",
              "    }\n",
              "  </style>\n",
              "\n",
              "      <script>\n",
              "        const buttonEl =\n",
              "          document.querySelector('#df-394bc34a-aa08-48c4-8fdc-9febf8f93364 button.colab-df-convert');\n",
              "        buttonEl.style.display =\n",
              "          google.colab.kernel.accessAllowed ? 'block' : 'none';\n",
              "\n",
              "        async function convertToInteractive(key) {\n",
              "          const element = document.querySelector('#df-394bc34a-aa08-48c4-8fdc-9febf8f93364');\n",
              "          const dataTable =\n",
              "            await google.colab.kernel.invokeFunction('convertToInteractive',\n",
              "                                                     [key], {});\n",
              "          if (!dataTable) return;\n",
              "\n",
              "          const docLinkHtml = 'Like what you see? Visit the ' +\n",
              "            '<a target=\"_blank\" href=https://colab.research.google.com/notebooks/data_table.ipynb>data table notebook</a>'\n",
              "            + ' to learn more about interactive tables.';\n",
              "          element.innerHTML = '';\n",
              "          dataTable['output_type'] = 'display_data';\n",
              "          await google.colab.output.renderOutput(dataTable, element);\n",
              "          const docLink = document.createElement('div');\n",
              "          docLink.innerHTML = docLinkHtml;\n",
              "          element.appendChild(docLink);\n",
              "        }\n",
              "      </script>\n",
              "    </div>\n",
              "  </div>\n",
              "  "
            ]
          },
          "metadata": {},
          "execution_count": 49
        }
      ],
      "source": [
        "compras_sheet_beneficiarios.unstack('SHEET')"
      ]
    },
    {
      "cell_type": "code",
      "execution_count": 50,
      "id": "ab95c892",
      "metadata": {
        "id": "ab95c892"
      },
      "outputs": [],
      "source": [
        "top_beneficiario = compras_df.groupby('BENEFICIARIO')['IMPORTE'].sum().sort_values(ascending=False).index[0:10]"
      ]
    },
    {
      "cell_type": "code",
      "execution_count": 51,
      "id": "b750be10",
      "metadata": {
        "id": "b750be10",
        "outputId": "db147fee-7be0-4b91-f6a1-c0fb2867890f",
        "colab": {
          "base_uri": "https://localhost:8080/"
        }
      },
      "outputs": [
        {
          "output_type": "execute_result",
          "data": {
            "text/plain": [
              "Index(['MUNICIPIO DE LA CIUDAD DE MONTERREY',\n",
              "       'FIDEIC.P/DESARR.INMOB.C/RES.DEL DER.DE REV.NUM.2828',\n",
              "       'NEXT ENERGY DE MEXICO, S.A. DE C.V.',\n",
              "       'HISA FARMACEUTICA, S.A. DE C.V.', 'BANCO MULTIVA, SA. G.F.M.',\n",
              "       'INDUSTRIAS SOLA BASIC, S.A. DE C.V.',\n",
              "       'SERVICIO DE ADMINISTRACION TRIBUTARIA', 'S.U.T.S.M.M.',\n",
              "       'GASOLINERA NUEVO LEON, S.A. DE C.V.', 'SI VALE MEXICO, S.A. DE C.V.'],\n",
              "      dtype='object', name='BENEFICIARIO')"
            ]
          },
          "metadata": {},
          "execution_count": 51
        }
      ],
      "source": [
        "top_beneficiario"
      ]
    },
    {
      "cell_type": "markdown",
      "id": "3d92b99a",
      "metadata": {
        "id": "3d92b99a"
      },
      "source": [
        "### Análisis de texto"
      ]
    },
    {
      "cell_type": "code",
      "execution_count": 34,
      "id": "52b3b759",
      "metadata": {
        "id": "52b3b759",
        "outputId": "b5346687-4ba9-4a6a-f3a5-bc09fad2c890",
        "colab": {
          "base_uri": "https://localhost:8080/"
        }
      },
      "outputs": [
        {
          "output_type": "stream",
          "name": "stdout",
          "text": [
            "[nltk_data] Downloading package stopwords to /root/nltk_data...\n",
            "[nltk_data]   Unzipping corpora/stopwords.zip.\n",
            "['de', 'la', 'que', 'el', 'en', 'y', 'a', 'los', 'del', 'se', 'las', 'por', 'un', 'para', 'con', 'no', 'una', 'su', 'al', 'lo', 'como', 'más', 'pero', 'sus', 'le', 'ya', 'o', 'este', 'sí', 'porque', 'esta', 'entre', 'cuando', 'muy', 'sin', 'sobre', 'también', 'me', 'hasta', 'hay', 'donde', 'quien', 'desde', 'todo', 'nos', 'durante', 'todos', 'uno', 'les', 'ni', 'contra', 'otros', 'ese', 'eso', 'ante', 'ellos', 'e', 'esto', 'mí', 'antes', 'algunos', 'qué', 'unos', 'yo', 'otro', 'otras', 'otra', 'él', 'tanto', 'esa', 'estos', 'mucho', 'quienes', 'nada', 'muchos', 'cual', 'poco', 'ella', 'estar', 'estas', 'algunas', 'algo', 'nosotros', 'mi', 'mis', 'tú', 'te', 'ti', 'tu', 'tus', 'ellas', 'nosotras', 'vosotros', 'vosotras', 'os', 'mío', 'mía', 'míos', 'mías', 'tuyo', 'tuya', 'tuyos', 'tuyas', 'suyo', 'suya', 'suyos', 'suyas', 'nuestro', 'nuestra', 'nuestros', 'nuestras', 'vuestro', 'vuestra', 'vuestros', 'vuestras', 'esos', 'esas', 'estoy', 'estás', 'está', 'estamos', 'estáis', 'están', 'esté', 'estés', 'estemos', 'estéis', 'estén', 'estaré', 'estarás', 'estará', 'estaremos', 'estaréis', 'estarán', 'estaría', 'estarías', 'estaríamos', 'estaríais', 'estarían', 'estaba', 'estabas', 'estábamos', 'estabais', 'estaban', 'estuve', 'estuviste', 'estuvo', 'estuvimos', 'estuvisteis', 'estuvieron', 'estuviera', 'estuvieras', 'estuviéramos', 'estuvierais', 'estuvieran', 'estuviese', 'estuvieses', 'estuviésemos', 'estuvieseis', 'estuviesen', 'estando', 'estado', 'estada', 'estados', 'estadas', 'estad', 'he', 'has', 'ha', 'hemos', 'habéis', 'han', 'haya', 'hayas', 'hayamos', 'hayáis', 'hayan', 'habré', 'habrás', 'habrá', 'habremos', 'habréis', 'habrán', 'habría', 'habrías', 'habríamos', 'habríais', 'habrían', 'había', 'habías', 'habíamos', 'habíais', 'habían', 'hube', 'hubiste', 'hubo', 'hubimos', 'hubisteis', 'hubieron', 'hubiera', 'hubieras', 'hubiéramos', 'hubierais', 'hubieran', 'hubiese', 'hubieses', 'hubiésemos', 'hubieseis', 'hubiesen', 'habiendo', 'habido', 'habida', 'habidos', 'habidas', 'soy', 'eres', 'es', 'somos', 'sois', 'son', 'sea', 'seas', 'seamos', 'seáis', 'sean', 'seré', 'serás', 'será', 'seremos', 'seréis', 'serán', 'sería', 'serías', 'seríamos', 'seríais', 'serían', 'era', 'eras', 'éramos', 'erais', 'eran', 'fui', 'fuiste', 'fue', 'fuimos', 'fuisteis', 'fueron', 'fuera', 'fueras', 'fuéramos', 'fuerais', 'fueran', 'fuese', 'fueses', 'fuésemos', 'fueseis', 'fuesen', 'sintiendo', 'sentido', 'sentida', 'sentidos', 'sentidas', 'siente', 'sentid', 'tengo', 'tienes', 'tiene', 'tenemos', 'tenéis', 'tienen', 'tenga', 'tengas', 'tengamos', 'tengáis', 'tengan', 'tendré', 'tendrás', 'tendrá', 'tendremos', 'tendréis', 'tendrán', 'tendría', 'tendrías', 'tendríamos', 'tendríais', 'tendrían', 'tenía', 'tenías', 'teníamos', 'teníais', 'tenían', 'tuve', 'tuviste', 'tuvo', 'tuvimos', 'tuvisteis', 'tuvieron', 'tuviera', 'tuvieras', 'tuviéramos', 'tuvierais', 'tuvieran', 'tuviese', 'tuvieses', 'tuviésemos', 'tuvieseis', 'tuviesen', 'teniendo', 'tenido', 'tenida', 'tenidos', 'tenidas', 'tened']\n"
          ]
        }
      ],
      "source": [
        "## nubes de palabras, para ver de que se está hablando\n",
        "import nltk\n",
        "from nltk.corpus import stopwords\n",
        "nltk.download('stopwords')\n",
        "print(stopwords.words('spanish'))"
      ]
    },
    {
      "cell_type": "code",
      "execution_count": 35,
      "id": "9ecf9ae8",
      "metadata": {
        "id": "9ecf9ae8"
      },
      "outputs": [],
      "source": [
        "textos_compras = ''\n",
        "for row in compras_df['CONCEPTO']:\n",
        "    textos_compras=textos_compras + ' '+row"
      ]
    },
    {
      "cell_type": "code",
      "execution_count": 36,
      "id": "be374408",
      "metadata": {
        "id": "be374408"
      },
      "outputs": [],
      "source": [
        "stopwords_list = stopwords.words('spanish')+['2021','cont','millar','dpp', 'est', 'op', 'ret','mty', 'icom']"
      ]
    },
    {
      "cell_type": "code",
      "execution_count": 37,
      "id": "3f9ec6cb",
      "metadata": {
        "id": "3f9ec6cb"
      },
      "outputs": [],
      "source": [
        "textos_compras = ' '.join([x for x in textos_compras.strip().lower().split(' ') if x not in stopwords_list and len(x)])"
      ]
    },
    {
      "cell_type": "code",
      "execution_count": 38,
      "id": "77118081",
      "metadata": {
        "id": "77118081"
      },
      "outputs": [],
      "source": [
        "from wordcloud import WordCloud\n",
        "import matplotlib.pyplot as plt"
      ]
    },
    {
      "cell_type": "code",
      "execution_count": 39,
      "id": "4008f04e",
      "metadata": {
        "id": "4008f04e",
        "outputId": "3ce26a3b-3932-44d1-e905-0e98a798cf26",
        "colab": {
          "base_uri": "https://localhost:8080/",
          "height": 198
        }
      },
      "outputs": [
        {
          "output_type": "display_data",
          "data": {
            "text/plain": [
              "<Figure size 432x288 with 1 Axes>"
            ],
            "image/png": "[encoded data removed]"
          },
          "metadata": {
            "needs_background": "light"
          }
        }
      ],
      "source": [
        "wc = WordCloud(background_color='white')\n",
        "wc.generate(textos_compras)\n",
        "plt.axis('off')\n",
        "plt.imshow(wc,interpolation='bilinear')\n",
        "plt.show()"
      ]
    },
    {
      "cell_type": "code",
      "execution_count": 39,
      "id": "2b58fd79",
      "metadata": {
        "id": "2b58fd79"
      },
      "outputs": [],
      "source": [
        ""
      ]
    }
  ],
  "metadata": {
    "kernelspec": {
      "display_name": "Python 3",
      "language": "python",
      "name": "python3"
    },
    "language_info": {
      "codemirror_mode": {
        "name": "ipython",
        "version": 3
      },
      "file_extension": ".py",
      "mimetype": "text/x-python",
      "name": "python",
      "nbconvert_exporter": "python",
      "pygments_lexer": "ipython3",
      "version": "3.8.8"
    },
    "colab": {
      "name": "2_exploracion.ipynb",
      "provenance": [],
      "include_colab_link": true
    }
  },
  "nbformat": 4,
  "nbformat_minor": 5
}